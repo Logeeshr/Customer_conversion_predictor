{
  "cells": [
    {
      "cell_type": "markdown",
      "metadata": {
        "id": "5mauY7XL2uQ2"
      },
      "source": [
        "**Import Dependcies**"
      ]
    },
    {
      "cell_type": "code",
      "execution_count": null,
      "metadata": {
        "id": "yWfg9TRf2keM"
      },
      "outputs": [],
      "source": [
        "#libraries for data cleaning and EDA\n",
        "import pandas as pd\n",
        "import numpy as np\n",
        "import matplotlib.pyplot as plt\n",
        "import seaborn as sns\n",
        "\n",
        "#library for train test data split and Sacaling\n",
        "from sklearn.model_selection import train_test_split\n",
        "from sklearn.preprocessing import StandardScaler\n",
        "\n",
        "#library for balancing the data\n",
        "from imblearn.combine import SMOTEENN\n",
        "\n",
        "#libraries for Model Building\n",
        "from sklearn.linear_model import LogisticRegression\n",
        "from sklearn.neighbors import KNeighborsClassifier\n",
        "from sklearn.tree import DecisionTreeClassifier \n",
        "from sklearn.ensemble import RandomForestClassifier\n",
        "import xgboost as xgb\n",
        "\n",
        "#libraries for model Evaluation\n",
        "from sklearn.metrics import accuracy_score, roc_auc_score, plot_roc_curve\n",
        "from sklearn.metrics import confusion_matrix, f1_score, classification_report,plot_confusion_matrix\n",
        "from sklearn.model_selection import cross_val_score\n",
        "\n",
        "import warnings\n",
        "warnings.filterwarnings('ignore')"
      ]
    },
    {
      "cell_type": "markdown",
      "metadata": {
        "id": "Azv1KPh7-fIz"
      },
      "source": [
        "# **DATA CLEANING**"
      ]
    },
    {
      "cell_type": "markdown",
      "metadata": {
        "id": "X1lVbF-z4N1u"
      },
      "source": [
        "**Data Importing**"
      ]
    },
    {
      "cell_type": "code",
      "execution_count": null,
      "metadata": {
        "id": "LAowdcyBh2cc"
      },
      "outputs": [],
      "source": [
        "cus_df = pd.read_csv(\"/content/train.csv\")"
      ]
    },
    {
      "cell_type": "markdown",
      "metadata": {
        "id": "oiykPnrI4asf"
      },
      "source": [
        "**Understanding the Data**"
      ]
    },
    {
      "cell_type": "code",
      "execution_count": null,
      "metadata": {
        "colab": {
          "base_uri": "https://localhost:8080/",
          "height": 206
        },
        "id": "0mo994luh2fj",
        "outputId": "9ecc7846-f5cc-4b80-8eec-069025541bbc"
      },
      "outputs": [
        {
          "output_type": "execute_result",
          "data": {
            "text/plain": [
              "   age           job  marital education_qual call_type  day  mon  dur  \\\n",
              "0   58    management  married       tertiary   unknown    5  may  261   \n",
              "1   44    technician   single      secondary   unknown    5  may  151   \n",
              "2   33  entrepreneur  married      secondary   unknown    5  may   76   \n",
              "3   47   blue-collar  married        unknown   unknown    5  may   92   \n",
              "4   33       unknown   single        unknown   unknown    5  may  198   \n",
              "\n",
              "   num_calls prev_outcome   y  \n",
              "0          1      unknown  no  \n",
              "1          1      unknown  no  \n",
              "2          1      unknown  no  \n",
              "3          1      unknown  no  \n",
              "4          1      unknown  no  "
            ],
            "text/html": [
              "\n",
              "  <div id=\"df-3a0a7d28-22a1-4d14-bdc8-18e02c7bebe6\">\n",
              "    <div class=\"colab-df-container\">\n",
              "      <div>\n",
              "<style scoped>\n",
              "    .dataframe tbody tr th:only-of-type {\n",
              "        vertical-align: middle;\n",
              "    }\n",
              "\n",
              "    .dataframe tbody tr th {\n",
              "        vertical-align: top;\n",
              "    }\n",
              "\n",
              "    .dataframe thead th {\n",
              "        text-align: right;\n",
              "    }\n",
              "</style>\n",
              "<table border=\"1\" class=\"dataframe\">\n",
              "  <thead>\n",
              "    <tr style=\"text-align: right;\">\n",
              "      <th></th>\n",
              "      <th>age</th>\n",
              "      <th>job</th>\n",
              "      <th>marital</th>\n",
              "      <th>education_qual</th>\n",
              "      <th>call_type</th>\n",
              "      <th>day</th>\n",
              "      <th>mon</th>\n",
              "      <th>dur</th>\n",
              "      <th>num_calls</th>\n",
              "      <th>prev_outcome</th>\n",
              "      <th>y</th>\n",
              "    </tr>\n",
              "  </thead>\n",
              "  <tbody>\n",
              "    <tr>\n",
              "      <th>0</th>\n",
              "      <td>58</td>\n",
              "      <td>management</td>\n",
              "      <td>married</td>\n",
              "      <td>tertiary</td>\n",
              "      <td>unknown</td>\n",
              "      <td>5</td>\n",
              "      <td>may</td>\n",
              "      <td>261</td>\n",
              "      <td>1</td>\n",
              "      <td>unknown</td>\n",
              "      <td>no</td>\n",
              "    </tr>\n",
              "    <tr>\n",
              "      <th>1</th>\n",
              "      <td>44</td>\n",
              "      <td>technician</td>\n",
              "      <td>single</td>\n",
              "      <td>secondary</td>\n",
              "      <td>unknown</td>\n",
              "      <td>5</td>\n",
              "      <td>may</td>\n",
              "      <td>151</td>\n",
              "      <td>1</td>\n",
              "      <td>unknown</td>\n",
              "      <td>no</td>\n",
              "    </tr>\n",
              "    <tr>\n",
              "      <th>2</th>\n",
              "      <td>33</td>\n",
              "      <td>entrepreneur</td>\n",
              "      <td>married</td>\n",
              "      <td>secondary</td>\n",
              "      <td>unknown</td>\n",
              "      <td>5</td>\n",
              "      <td>may</td>\n",
              "      <td>76</td>\n",
              "      <td>1</td>\n",
              "      <td>unknown</td>\n",
              "      <td>no</td>\n",
              "    </tr>\n",
              "    <tr>\n",
              "      <th>3</th>\n",
              "      <td>47</td>\n",
              "      <td>blue-collar</td>\n",
              "      <td>married</td>\n",
              "      <td>unknown</td>\n",
              "      <td>unknown</td>\n",
              "      <td>5</td>\n",
              "      <td>may</td>\n",
              "      <td>92</td>\n",
              "      <td>1</td>\n",
              "      <td>unknown</td>\n",
              "      <td>no</td>\n",
              "    </tr>\n",
              "    <tr>\n",
              "      <th>4</th>\n",
              "      <td>33</td>\n",
              "      <td>unknown</td>\n",
              "      <td>single</td>\n",
              "      <td>unknown</td>\n",
              "      <td>unknown</td>\n",
              "      <td>5</td>\n",
              "      <td>may</td>\n",
              "      <td>198</td>\n",
              "      <td>1</td>\n",
              "      <td>unknown</td>\n",
              "      <td>no</td>\n",
              "    </tr>\n",
              "  </tbody>\n",
              "</table>\n",
              "</div>\n",
              "      <button class=\"colab-df-convert\" onclick=\"convertToInteractive('df-3a0a7d28-22a1-4d14-bdc8-18e02c7bebe6')\"\n",
              "              title=\"Convert this dataframe to an interactive table.\"\n",
              "              style=\"display:none;\">\n",
              "        \n",
              "  <svg xmlns=\"http://www.w3.org/2000/svg\" height=\"24px\"viewBox=\"0 0 24 24\"\n",
              "       width=\"24px\">\n",
              "    <path d=\"M0 0h24v24H0V0z\" fill=\"none\"/>\n",
              "    <path d=\"M18.56 5.44l.94 2.06.94-2.06 2.06-.94-2.06-.94-.94-2.06-.94 2.06-2.06.94zm-11 1L8.5 8.5l.94-2.06 2.06-.94-2.06-.94L8.5 2.5l-.94 2.06-2.06.94zm10 10l.94 2.06.94-2.06 2.06-.94-2.06-.94-.94-2.06-.94 2.06-2.06.94z\"/><path d=\"M17.41 7.96l-1.37-1.37c-.4-.4-.92-.59-1.43-.59-.52 0-1.04.2-1.43.59L10.3 9.45l-7.72 7.72c-.78.78-.78 2.05 0 2.83L4 21.41c.39.39.9.59 1.41.59.51 0 1.02-.2 1.41-.59l7.78-7.78 2.81-2.81c.8-.78.8-2.07 0-2.86zM5.41 20L4 18.59l7.72-7.72 1.47 1.35L5.41 20z\"/>\n",
              "  </svg>\n",
              "      </button>\n",
              "      \n",
              "  <style>\n",
              "    .colab-df-container {\n",
              "      display:flex;\n",
              "      flex-wrap:wrap;\n",
              "      gap: 12px;\n",
              "    }\n",
              "\n",
              "    .colab-df-convert {\n",
              "      background-color: #E8F0FE;\n",
              "      border: none;\n",
              "      border-radius: 50%;\n",
              "      cursor: pointer;\n",
              "      display: none;\n",
              "      fill: #1967D2;\n",
              "      height: 32px;\n",
              "      padding: 0 0 0 0;\n",
              "      width: 32px;\n",
              "    }\n",
              "\n",
              "    .colab-df-convert:hover {\n",
              "      background-color: #E2EBFA;\n",
              "      box-shadow: 0px 1px 2px rgba(60, 64, 67, 0.3), 0px 1px 3px 1px rgba(60, 64, 67, 0.15);\n",
              "      fill: #174EA6;\n",
              "    }\n",
              "\n",
              "    [theme=dark] .colab-df-convert {\n",
              "      background-color: #3B4455;\n",
              "      fill: #D2E3FC;\n",
              "    }\n",
              "\n",
              "    [theme=dark] .colab-df-convert:hover {\n",
              "      background-color: #434B5C;\n",
              "      box-shadow: 0px 1px 3px 1px rgba(0, 0, 0, 0.15);\n",
              "      filter: drop-shadow(0px 1px 2px rgba(0, 0, 0, 0.3));\n",
              "      fill: #FFFFFF;\n",
              "    }\n",
              "  </style>\n",
              "\n",
              "      <script>\n",
              "        const buttonEl =\n",
              "          document.querySelector('#df-3a0a7d28-22a1-4d14-bdc8-18e02c7bebe6 button.colab-df-convert');\n",
              "        buttonEl.style.display =\n",
              "          google.colab.kernel.accessAllowed ? 'block' : 'none';\n",
              "\n",
              "        async function convertToInteractive(key) {\n",
              "          const element = document.querySelector('#df-3a0a7d28-22a1-4d14-bdc8-18e02c7bebe6');\n",
              "          const dataTable =\n",
              "            await google.colab.kernel.invokeFunction('convertToInteractive',\n",
              "                                                     [key], {});\n",
              "          if (!dataTable) return;\n",
              "\n",
              "          const docLinkHtml = 'Like what you see? Visit the ' +\n",
              "            '<a target=\"_blank\" href=https://colab.research.google.com/notebooks/data_table.ipynb>data table notebook</a>'\n",
              "            + ' to learn more about interactive tables.';\n",
              "          element.innerHTML = '';\n",
              "          dataTable['output_type'] = 'display_data';\n",
              "          await google.colab.output.renderOutput(dataTable, element);\n",
              "          const docLink = document.createElement('div');\n",
              "          docLink.innerHTML = docLinkHtml;\n",
              "          element.appendChild(docLink);\n",
              "        }\n",
              "      </script>\n",
              "    </div>\n",
              "  </div>\n",
              "  "
            ]
          },
          "metadata": {},
          "execution_count": 211
        }
      ],
      "source": [
        "cus_df.head()#print first five columns"
      ]
    },
    {
      "cell_type": "code",
      "execution_count": null,
      "metadata": {
        "colab": {
          "base_uri": "https://localhost:8080/"
        },
        "id": "IV5pfx-sjWEk",
        "outputId": "12476305-4b99-4a9f-c470-a542992a8b6a"
      },
      "outputs": [
        {
          "output_type": "stream",
          "name": "stdout",
          "text": [
            "<class 'pandas.core.frame.DataFrame'>\n",
            "RangeIndex: 45211 entries, 0 to 45210\n",
            "Data columns (total 11 columns):\n",
            " #   Column          Non-Null Count  Dtype \n",
            "---  ------          --------------  ----- \n",
            " 0   age             45211 non-null  int64 \n",
            " 1   job             45211 non-null  object\n",
            " 2   marital         45211 non-null  object\n",
            " 3   education_qual  45211 non-null  object\n",
            " 4   call_type       45211 non-null  object\n",
            " 5   day             45211 non-null  int64 \n",
            " 6   mon             45211 non-null  object\n",
            " 7   dur             45211 non-null  int64 \n",
            " 8   num_calls       45211 non-null  int64 \n",
            " 9   prev_outcome    45211 non-null  object\n",
            " 10  y               45211 non-null  object\n",
            "dtypes: int64(4), object(7)\n",
            "memory usage: 3.8+ MB\n"
          ]
        }
      ],
      "source": [
        "#checking the data type and number of columns\n",
        "cus_df.info()"
      ]
    },
    {
      "cell_type": "code",
      "execution_count": null,
      "metadata": {
        "colab": {
          "base_uri": "https://localhost:8080/"
        },
        "id": "Q-JYmJVhjpOs",
        "outputId": "bceb9686-ea38-4126-bcf8-39f3dc8e6372"
      },
      "outputs": [
        {
          "output_type": "stream",
          "name": "stdout",
          "text": [
            "Number of Rows in the dataset:  45211\n",
            "Number of Rows in the dataset:  11\n"
          ]
        }
      ],
      "source": [
        "print(\"Number of Rows in the dataset: \",cus_df.shape[0])\n",
        "print(\"Number of Rows in the dataset: \",cus_df.shape[1])"
      ]
    },
    {
      "cell_type": "code",
      "execution_count": null,
      "metadata": {
        "colab": {
          "base_uri": "https://localhost:8080/",
          "height": 300
        },
        "id": "2DBBnC-jjtWU",
        "outputId": "51d2fe2b-0b6f-418e-bbdd-2458e296b49e"
      },
      "outputs": [
        {
          "output_type": "execute_result",
          "data": {
            "text/plain": [
              "                age           day           dur     num_calls\n",
              "count  45211.000000  45211.000000  45211.000000  45211.000000\n",
              "mean      40.936210     15.806419    258.163080      2.763841\n",
              "std       10.618762      8.322476    257.527812      3.098021\n",
              "min       18.000000      1.000000      0.000000      1.000000\n",
              "25%       33.000000      8.000000    103.000000      1.000000\n",
              "50%       39.000000     16.000000    180.000000      2.000000\n",
              "75%       48.000000     21.000000    319.000000      3.000000\n",
              "max       95.000000     31.000000   4918.000000     63.000000"
            ],
            "text/html": [
              "\n",
              "  <div id=\"df-642b29ad-042b-454b-8eef-701e60d19c83\">\n",
              "    <div class=\"colab-df-container\">\n",
              "      <div>\n",
              "<style scoped>\n",
              "    .dataframe tbody tr th:only-of-type {\n",
              "        vertical-align: middle;\n",
              "    }\n",
              "\n",
              "    .dataframe tbody tr th {\n",
              "        vertical-align: top;\n",
              "    }\n",
              "\n",
              "    .dataframe thead th {\n",
              "        text-align: right;\n",
              "    }\n",
              "</style>\n",
              "<table border=\"1\" class=\"dataframe\">\n",
              "  <thead>\n",
              "    <tr style=\"text-align: right;\">\n",
              "      <th></th>\n",
              "      <th>age</th>\n",
              "      <th>day</th>\n",
              "      <th>dur</th>\n",
              "      <th>num_calls</th>\n",
              "    </tr>\n",
              "  </thead>\n",
              "  <tbody>\n",
              "    <tr>\n",
              "      <th>count</th>\n",
              "      <td>45211.000000</td>\n",
              "      <td>45211.000000</td>\n",
              "      <td>45211.000000</td>\n",
              "      <td>45211.000000</td>\n",
              "    </tr>\n",
              "    <tr>\n",
              "      <th>mean</th>\n",
              "      <td>40.936210</td>\n",
              "      <td>15.806419</td>\n",
              "      <td>258.163080</td>\n",
              "      <td>2.763841</td>\n",
              "    </tr>\n",
              "    <tr>\n",
              "      <th>std</th>\n",
              "      <td>10.618762</td>\n",
              "      <td>8.322476</td>\n",
              "      <td>257.527812</td>\n",
              "      <td>3.098021</td>\n",
              "    </tr>\n",
              "    <tr>\n",
              "      <th>min</th>\n",
              "      <td>18.000000</td>\n",
              "      <td>1.000000</td>\n",
              "      <td>0.000000</td>\n",
              "      <td>1.000000</td>\n",
              "    </tr>\n",
              "    <tr>\n",
              "      <th>25%</th>\n",
              "      <td>33.000000</td>\n",
              "      <td>8.000000</td>\n",
              "      <td>103.000000</td>\n",
              "      <td>1.000000</td>\n",
              "    </tr>\n",
              "    <tr>\n",
              "      <th>50%</th>\n",
              "      <td>39.000000</td>\n",
              "      <td>16.000000</td>\n",
              "      <td>180.000000</td>\n",
              "      <td>2.000000</td>\n",
              "    </tr>\n",
              "    <tr>\n",
              "      <th>75%</th>\n",
              "      <td>48.000000</td>\n",
              "      <td>21.000000</td>\n",
              "      <td>319.000000</td>\n",
              "      <td>3.000000</td>\n",
              "    </tr>\n",
              "    <tr>\n",
              "      <th>max</th>\n",
              "      <td>95.000000</td>\n",
              "      <td>31.000000</td>\n",
              "      <td>4918.000000</td>\n",
              "      <td>63.000000</td>\n",
              "    </tr>\n",
              "  </tbody>\n",
              "</table>\n",
              "</div>\n",
              "      <button class=\"colab-df-convert\" onclick=\"convertToInteractive('df-642b29ad-042b-454b-8eef-701e60d19c83')\"\n",
              "              title=\"Convert this dataframe to an interactive table.\"\n",
              "              style=\"display:none;\">\n",
              "        \n",
              "  <svg xmlns=\"http://www.w3.org/2000/svg\" height=\"24px\"viewBox=\"0 0 24 24\"\n",
              "       width=\"24px\">\n",
              "    <path d=\"M0 0h24v24H0V0z\" fill=\"none\"/>\n",
              "    <path d=\"M18.56 5.44l.94 2.06.94-2.06 2.06-.94-2.06-.94-.94-2.06-.94 2.06-2.06.94zm-11 1L8.5 8.5l.94-2.06 2.06-.94-2.06-.94L8.5 2.5l-.94 2.06-2.06.94zm10 10l.94 2.06.94-2.06 2.06-.94-2.06-.94-.94-2.06-.94 2.06-2.06.94z\"/><path d=\"M17.41 7.96l-1.37-1.37c-.4-.4-.92-.59-1.43-.59-.52 0-1.04.2-1.43.59L10.3 9.45l-7.72 7.72c-.78.78-.78 2.05 0 2.83L4 21.41c.39.39.9.59 1.41.59.51 0 1.02-.2 1.41-.59l7.78-7.78 2.81-2.81c.8-.78.8-2.07 0-2.86zM5.41 20L4 18.59l7.72-7.72 1.47 1.35L5.41 20z\"/>\n",
              "  </svg>\n",
              "      </button>\n",
              "      \n",
              "  <style>\n",
              "    .colab-df-container {\n",
              "      display:flex;\n",
              "      flex-wrap:wrap;\n",
              "      gap: 12px;\n",
              "    }\n",
              "\n",
              "    .colab-df-convert {\n",
              "      background-color: #E8F0FE;\n",
              "      border: none;\n",
              "      border-radius: 50%;\n",
              "      cursor: pointer;\n",
              "      display: none;\n",
              "      fill: #1967D2;\n",
              "      height: 32px;\n",
              "      padding: 0 0 0 0;\n",
              "      width: 32px;\n",
              "    }\n",
              "\n",
              "    .colab-df-convert:hover {\n",
              "      background-color: #E2EBFA;\n",
              "      box-shadow: 0px 1px 2px rgba(60, 64, 67, 0.3), 0px 1px 3px 1px rgba(60, 64, 67, 0.15);\n",
              "      fill: #174EA6;\n",
              "    }\n",
              "\n",
              "    [theme=dark] .colab-df-convert {\n",
              "      background-color: #3B4455;\n",
              "      fill: #D2E3FC;\n",
              "    }\n",
              "\n",
              "    [theme=dark] .colab-df-convert:hover {\n",
              "      background-color: #434B5C;\n",
              "      box-shadow: 0px 1px 3px 1px rgba(0, 0, 0, 0.15);\n",
              "      filter: drop-shadow(0px 1px 2px rgba(0, 0, 0, 0.3));\n",
              "      fill: #FFFFFF;\n",
              "    }\n",
              "  </style>\n",
              "\n",
              "      <script>\n",
              "        const buttonEl =\n",
              "          document.querySelector('#df-642b29ad-042b-454b-8eef-701e60d19c83 button.colab-df-convert');\n",
              "        buttonEl.style.display =\n",
              "          google.colab.kernel.accessAllowed ? 'block' : 'none';\n",
              "\n",
              "        async function convertToInteractive(key) {\n",
              "          const element = document.querySelector('#df-642b29ad-042b-454b-8eef-701e60d19c83');\n",
              "          const dataTable =\n",
              "            await google.colab.kernel.invokeFunction('convertToInteractive',\n",
              "                                                     [key], {});\n",
              "          if (!dataTable) return;\n",
              "\n",
              "          const docLinkHtml = 'Like what you see? Visit the ' +\n",
              "            '<a target=\"_blank\" href=https://colab.research.google.com/notebooks/data_table.ipynb>data table notebook</a>'\n",
              "            + ' to learn more about interactive tables.';\n",
              "          element.innerHTML = '';\n",
              "          dataTable['output_type'] = 'display_data';\n",
              "          await google.colab.output.renderOutput(dataTable, element);\n",
              "          const docLink = document.createElement('div');\n",
              "          docLink.innerHTML = docLinkHtml;\n",
              "          element.appendChild(docLink);\n",
              "        }\n",
              "      </script>\n",
              "    </div>\n",
              "  </div>\n",
              "  "
            ]
          },
          "metadata": {},
          "execution_count": 214
        }
      ],
      "source": [
        "#statistical Information about numerical columns\n",
        "cus_df.describe()"
      ]
    },
    {
      "cell_type": "code",
      "execution_count": null,
      "metadata": {
        "colab": {
          "base_uri": "https://localhost:8080/"
        },
        "id": "g2RdLy2ujv7E",
        "outputId": "800a1060-e4a2-4cf7-8992-42e92d06a50e"
      },
      "outputs": [
        {
          "output_type": "stream",
          "name": "stdout",
          "text": [
            "categorical columns:  ['job', 'marital', 'education_qual', 'call_type', 'mon', 'prev_outcome', 'y']\n",
            "Numcerical columns:  ['age', 'day', 'dur', 'num_calls']\n"
          ]
        }
      ],
      "source": [
        "#categorical columns\n",
        "cus_df_cat = cus_df.select_dtypes(include = object)\n",
        "cus_df_cat = cus_df_cat.columns.tolist()\n",
        "print('categorical columns: ',cus_df_cat)\n",
        "\n",
        "#Numerical columns\n",
        "cus_df_num = cus_df.select_dtypes(exclude = object)\n",
        "cus_df_num = cus_df_num.columns.tolist()\n",
        "print('Numcerical columns: ',cus_df_num)\n"
      ]
    },
    {
      "cell_type": "code",
      "execution_count": null,
      "metadata": {
        "colab": {
          "base_uri": "https://localhost:8080/"
        },
        "id": "QMmbMRxhk6U8",
        "outputId": "cb5d22c5-a8b3-4947-ec35-efc5aeacb676"
      },
      "outputs": [
        {
          "output_type": "stream",
          "name": "stdout",
          "text": [
            "job: ['management' 'technician' 'entrepreneur' 'blue-collar' 'unknown'\n",
            " 'retired' 'admin.' 'services' 'self-employed' 'unemployed' 'housemaid'\n",
            " 'student'] \n",
            "\n",
            "marital: ['married' 'single' 'divorced'] \n",
            "\n",
            "education_qual: ['tertiary' 'secondary' 'unknown' 'primary'] \n",
            "\n",
            "call_type: ['unknown' 'cellular' 'telephone'] \n",
            "\n",
            "mon: ['may' 'jun' 'jul' 'aug' 'oct' 'nov' 'dec' 'jan' 'feb' 'mar' 'apr' 'sep'] \n",
            "\n",
            "prev_outcome: ['unknown' 'failure' 'other' 'success'] \n",
            "\n",
            "y: ['no' 'yes'] \n",
            "\n"
          ]
        }
      ],
      "source": [
        "#unique values in categorical columns\n",
        "for i in cus_df_cat:\n",
        "  print(f'{i}'+ \":\",cus_df[i].unique(),'\\n')"
      ]
    },
    {
      "cell_type": "code",
      "execution_count": null,
      "metadata": {
        "colab": {
          "base_uri": "https://localhost:8080/"
        },
        "id": "mwRZ5PeVmg3j",
        "outputId": "aad161f4-5127-43e2-e65d-5cebbb3f6813"
      },
      "outputs": [
        {
          "output_type": "execute_result",
          "data": {
            "text/plain": [
              "6"
            ]
          },
          "metadata": {},
          "execution_count": 217
        }
      ],
      "source": [
        "#number of duplicates in data\n",
        "cus_df.duplicated().sum()"
      ]
    },
    {
      "cell_type": "code",
      "execution_count": null,
      "metadata": {
        "colab": {
          "base_uri": "https://localhost:8080/"
        },
        "id": "bD-u575nnFqE",
        "outputId": "d4dabec9-3d73-4e53-d6b1-ef4c976ece80"
      },
      "outputs": [
        {
          "output_type": "stream",
          "name": "stdout",
          "text": [
            "Now the dataset has 45205 rows and 11 columns after dropping duplicates\n"
          ]
        }
      ],
      "source": [
        "#we have only 6 duplicates so decided to drop the duplicates\n",
        "cus_df = cus_df.drop_duplicates()\n",
        "print(\"Now the dataset has {} rows and {} columns after dropping duplicates\".format(cus_df.shape[0], cus_df.shape[1]))"
      ]
    },
    {
      "cell_type": "markdown",
      "metadata": {
        "id": "zNFxjtu-wF6e"
      },
      "source": [
        "**Target column**"
      ]
    },
    {
      "cell_type": "code",
      "execution_count": null,
      "metadata": {
        "colab": {
          "base_uri": "https://localhost:8080/"
        },
        "id": "-GWiySWkptBz",
        "outputId": "1a2e37f5-4416-4534-91fb-e7466bd17568"
      },
      "outputs": [
        {
          "output_type": "stream",
          "name": "stdout",
          "text": [
            "Class No: 39916\n",
            "Class yes: 5289\n",
            "The percentage of data where insurance is not given: 88.29996681782988\n"
          ]
        }
      ],
      "source": [
        "target_count = cus_df['y'].value_counts()\n",
        "print('Class No:',  target_count[0])\n",
        "print('Class yes:',  target_count[1])\n",
        "print(\"The percentage of data where insurance is not given:\", ((cus_df['y']=='no').sum()/cus_df.shape[0])*100)"
      ]
    },
    {
      "cell_type": "code",
      "execution_count": null,
      "metadata": {
        "colab": {
          "base_uri": "https://localhost:8080/",
          "height": 285
        },
        "id": "2y0a6DZgxOPE",
        "outputId": "2abfca4c-108b-49e1-8b6b-af651ea98f45"
      },
      "outputs": [
        {
          "output_type": "display_data",
          "data": {
            "text/plain": [
              "<Figure size 432x288 with 1 Axes>"
            ],
            "image/png": "[encoded data removed]"
          },
          "metadata": {}
        }
      ],
      "source": [
        "sns.countplot('y',data=cus_df)\n",
        "plt.show()"
      ]
    },
    {
      "cell_type": "markdown",
      "metadata": {
        "id": "aekks5rtzhfa"
      },
      "source": [
        "1. Since, more than 70% of target data is 'no', it is an imbalanced learning problem.\n",
        "2. So, we will use 'Cluster-Centroid Undersampling' or 'SMOTE Oversampling'. (else. 'SMOTEEN')."
      ]
    },
    {
      "cell_type": "code",
      "execution_count": null,
      "metadata": {
        "colab": {
          "base_uri": "https://localhost:8080/"
        },
        "id": "BPB1a4cdyCWE",
        "outputId": "4ab13536-53d9-439f-9cc7-3cab11e4083d"
      },
      "outputs": [
        {
          "output_type": "stream",
          "name": "stdout",
          "text": [
            "The percentage of data where insurance is not given: 88.29996681782988\n"
          ]
        }
      ],
      "source": [
        "print(\"The percentage of data where insurance is not given:\", ((cus_df['y']=='no').sum()/cus_df.shape[0])*100)"
      ]
    },
    {
      "cell_type": "markdown",
      "metadata": {
        "id": "IdjIB6JH08rT"
      },
      "source": [
        "**AGE** - Column"
      ]
    },
    {
      "cell_type": "code",
      "execution_count": null,
      "metadata": {
        "colab": {
          "base_uri": "https://localhost:8080/"
        },
        "id": "gchKe_ygymfD",
        "outputId": "521a3075-b1a5-46bc-d4f3-0e7a87906017"
      },
      "outputs": [
        {
          "output_type": "execute_result",
          "data": {
            "text/plain": [
              "0"
            ]
          },
          "metadata": {},
          "execution_count": 222
        }
      ],
      "source": [
        "#checking for null values\n",
        "cus_df['age'].isnull().sum()"
      ]
    },
    {
      "cell_type": "code",
      "execution_count": null,
      "metadata": {
        "id": "7WGSwPgDuvnY"
      },
      "outputs": [],
      "source": [
        "#converting the datatype\n",
        "cus_df['age'] = cus_df['age'].astype('int64')"
      ]
    },
    {
      "cell_type": "code",
      "execution_count": null,
      "metadata": {
        "id": "IvOhj-0NIAeS"
      },
      "outputs": [],
      "source": [
        "cus_df['age'] = cus_df['age'].astype(int)"
      ]
    },
    {
      "cell_type": "code",
      "execution_count": null,
      "metadata": {
        "colab": {
          "base_uri": "https://localhost:8080/",
          "height": 318
        },
        "id": "qxkHucDJ1F-S",
        "outputId": "9922f182-8605-4c2b-8978-0efbbef9ac74"
      },
      "outputs": [
        {
          "output_type": "execute_result",
          "data": {
            "text/plain": [
              "Text(0.5, 1.0, 'Checking outliers')"
            ]
          },
          "metadata": {},
          "execution_count": 225
        },
        {
          "output_type": "display_data",
          "data": {
            "text/plain": [
              "<Figure size 432x288 with 1 Axes>"
            ],
            "image/png": "[encoded data removed]"
          },
          "metadata": {}
        }
      ],
      "source": [
        "#plot for checking outliers\n",
        "sns.boxplot('age',data=cus_df)\n",
        "plt.title(\"Checking outliers\",)"
      ]
    },
    {
      "cell_type": "code",
      "execution_count": null,
      "metadata": {
        "id": "NttfP7nZ1b9T"
      },
      "outputs": [],
      "source": [
        "def detect_outliers(dataframe, column):\n",
        "    Q1 = dataframe[column].quantile(0.25)\n",
        "    Q3 = dataframe[column].quantile(0.75)\n",
        "    IQR = Q3 - Q1\n",
        "    lower_fence = Q1 - 1.5*(IQR)\n",
        "    upper_fence = Q3 + 1.5*(IQR)\n",
        "    total_outliers = dataframe.loc[(dataframe[column] < lower_fence) | (dataframe[column] > upper_fence)]\n",
        "    \n",
        "    print(\"LowerFence: {}, UpperFence: {}\\n{} Outliers present in {}\".format(lower_fence, upper_fence, len(total_outliers), column))"
      ]
    },
    {
      "cell_type": "code",
      "execution_count": null,
      "metadata": {
        "colab": {
          "base_uri": "https://localhost:8080/"
        },
        "id": "oucqnwf4159w",
        "outputId": "cbe0628f-2f87-4c57-c6db-901a4be950d6"
      },
      "outputs": [
        {
          "output_type": "stream",
          "name": "stdout",
          "text": [
            "LowerFence: 10.5, UpperFence: 70.5\n",
            "487 Outliers present in age\n"
          ]
        }
      ],
      "source": [
        "detect_outliers(cus_df,'age')"
      ]
    },
    {
      "cell_type": "code",
      "execution_count": null,
      "metadata": {
        "id": "1c9pRfLi4mMl"
      },
      "outputs": [],
      "source": [
        "def clip_outliers(dataframe, column):\n",
        "    Q1 = dataframe[column].quantile(0.25)\n",
        "    Q3 = dataframe[column].quantile(0.75)\n",
        "    IQR = Q3 - Q1\n",
        "    lower_fence = Q1 - 1.5*(IQR)\n",
        "    upper_fence = Q3 + 1.5*(IQR)\n",
        "    dataframe[column] = dataframe[column].clip(lower_fence, upper_fence)"
      ]
    },
    {
      "cell_type": "code",
      "execution_count": null,
      "metadata": {
        "id": "Zofsy2qA4pk0"
      },
      "outputs": [],
      "source": [
        "#cliping the outliers\n",
        "clip_outliers(cus_df,'age')"
      ]
    },
    {
      "cell_type": "code",
      "execution_count": null,
      "metadata": {
        "colab": {
          "base_uri": "https://localhost:8080/",
          "height": 301
        },
        "id": "kZEVcK004sFj",
        "outputId": "a8808d3d-a0be-48cb-af72-b4cf80b6fb70"
      },
      "outputs": [
        {
          "output_type": "display_data",
          "data": {
            "text/plain": [
              "<Figure size 432x288 with 1 Axes>"
            ],
            "image/png": "[encoded data removed]"
          },
          "metadata": {}
        }
      ],
      "source": [
        "#boxplot after cliping outliers\n",
        "sns.boxplot(cus_df['age'])\n",
        "plt.title(\"Checking outliers after clipping\",)\n",
        "plt.show()"
      ]
    },
    {
      "cell_type": "markdown",
      "metadata": {
        "id": "TxLWCwGr6Ufa"
      },
      "source": [
        "**Job** -- column"
      ]
    },
    {
      "cell_type": "code",
      "execution_count": null,
      "metadata": {
        "colab": {
          "base_uri": "https://localhost:8080/"
        },
        "id": "jllZbgCw6TMT",
        "outputId": "31a14b39-810b-4948-849b-ffead560ed6b"
      },
      "outputs": [
        {
          "output_type": "execute_result",
          "data": {
            "text/plain": [
              "array(['management', 'technician', 'entrepreneur', 'blue-collar',\n",
              "       'unknown', 'retired', 'admin.', 'services', 'self-employed',\n",
              "       'unemployed', 'housemaid', 'student'], dtype=object)"
            ]
          },
          "metadata": {},
          "execution_count": 231
        }
      ],
      "source": [
        "#unique values in job column\n",
        "cus_df['job'].unique()"
      ]
    },
    {
      "cell_type": "code",
      "execution_count": null,
      "metadata": {
        "colab": {
          "base_uri": "https://localhost:8080/"
        },
        "id": "k_KY_jMm41fS",
        "outputId": "cb5732b5-31a7-46b5-940f-71baa03ab74e"
      },
      "outputs": [
        {
          "output_type": "execute_result",
          "data": {
            "text/plain": [
              "288"
            ]
          },
          "metadata": {},
          "execution_count": 232
        }
      ],
      "source": [
        "#No. of rows have unknown values\n",
        "(cus_df['job']=='unknown').sum()"
      ]
    },
    {
      "cell_type": "code",
      "execution_count": null,
      "metadata": {
        "colab": {
          "base_uri": "https://localhost:8080/"
        },
        "id": "jCk_WzAK7IuU",
        "outputId": "f1615d02-155f-466f-9289-a4a93a6ec0da"
      },
      "outputs": [
        {
          "output_type": "stream",
          "name": "stdout",
          "text": [
            "The percentage of unknown data is: 0.6370976661873686\n"
          ]
        }
      ],
      "source": [
        "print(\"The percentage of unknown data is:\", ((cus_df['job']=='unknown').sum()/cus_df.shape[0])*100)"
      ]
    },
    {
      "cell_type": "markdown",
      "metadata": {
        "id": "Gd8z1jz57dni"
      },
      "source": [
        "Only 0.6% of data is unknown in the job feature is unknown, so i decided to drop the unknown values in the feature"
      ]
    },
    {
      "cell_type": "code",
      "execution_count": null,
      "metadata": {
        "id": "atBbW-eq7dL7"
      },
      "outputs": [],
      "source": [
        "cus_df = cus_df.drop(cus_df[cus_df['job']=='unknown'].index).reset_index(drop=True)"
      ]
    },
    {
      "cell_type": "code",
      "execution_count": null,
      "metadata": {
        "colab": {
          "base_uri": "https://localhost:8080/"
        },
        "id": "vYyJuRa87Prb",
        "outputId": "757236fe-4bf4-4b2a-8e6c-0344cabc2c23"
      },
      "outputs": [
        {
          "output_type": "stream",
          "name": "stdout",
          "text": [
            "Now the dataset has 44917 rows and 11 columns after dropping unknown values in job\n"
          ]
        }
      ],
      "source": [
        "print(\"Now the dataset has {} rows and {} columns after dropping unknown values in job\".format(cus_df.shape[0], cus_df.shape[1]))"
      ]
    },
    {
      "cell_type": "code",
      "execution_count": null,
      "metadata": {
        "id": "hbIPMq9v8gPr"
      },
      "outputs": [],
      "source": [
        "#Spelling Correction\n",
        "cus_df['job'].replace(\"admin.\",\"admin\",inplace=True)"
      ]
    },
    {
      "cell_type": "code",
      "execution_count": null,
      "metadata": {
        "colab": {
          "base_uri": "https://localhost:8080/"
        },
        "id": "xxLLxh1b8-4T",
        "outputId": "ce3c0773-c583-4529-d6c3-8804c970472e"
      },
      "outputs": [
        {
          "output_type": "execute_result",
          "data": {
            "text/plain": [
              "blue-collar      9730\n",
              "management       9457\n",
              "technician       7596\n",
              "admin            5170\n",
              "services         4153\n",
              "retired          2264\n",
              "self-employed    1579\n",
              "entrepreneur     1487\n",
              "unemployed       1303\n",
              "housemaid        1240\n",
              "student           938\n",
              "Name: job, dtype: int64"
            ]
          },
          "metadata": {},
          "execution_count": 239
        }
      ],
      "source": [
        "#value count for each type of job\n",
        "cus_df['job'].value_counts()"
      ]
    },
    {
      "cell_type": "code",
      "source": [
        "cus_df['target'] = cus_df['y'].map({\"yes\":1,\"no\":0})"
      ],
      "metadata": {
        "id": "p6jpKLznr8zH"
      },
      "execution_count": null,
      "outputs": []
    },
    {
      "cell_type": "code",
      "source": [
        "cus_df.groupby('job')['target'].mean()"
      ],
      "metadata": {
        "colab": {
          "base_uri": "https://localhost:8080/"
        },
        "id": "8idg1uKHIq0k",
        "outputId": "517ccc6a-33b2-4121-e8b8-0edd1fb9cb7f"
      },
      "execution_count": null,
      "outputs": [
        {
          "output_type": "execute_result",
          "data": {
            "text/plain": [
              "job\n",
              "admin            0.122050\n",
              "blue-collar      0.072765\n",
              "entrepreneur     0.082717\n",
              "housemaid        0.087903\n",
              "management       0.137570\n",
              "retired          0.227915\n",
              "self-employed    0.118429\n",
              "services         0.088851\n",
              "student          0.286780\n",
              "technician       0.110585\n",
              "unemployed       0.155027\n",
              "Name: target, dtype: float64"
            ]
          },
          "metadata": {},
          "execution_count": 241
        }
      ]
    },
    {
      "cell_type": "markdown",
      "source": [
        "Student has higher conversion rate than blue collar jobs and management people who have higher value counts.So targeting the students more would be a better decision"
      ],
      "metadata": {
        "id": "8PW57X9NIvIS"
      }
    },
    {
      "cell_type": "markdown",
      "metadata": {
        "id": "R5GL1WxV_zZ1"
      },
      "source": [
        "**Marital** -- Column"
      ]
    },
    {
      "cell_type": "code",
      "execution_count": null,
      "metadata": {
        "colab": {
          "base_uri": "https://localhost:8080/"
        },
        "id": "BEmoPjNfAKuS",
        "outputId": "c97412b2-cabb-49f0-b890-089b7c1f8143"
      },
      "outputs": [
        {
          "output_type": "execute_result",
          "data": {
            "text/plain": [
              "0"
            ]
          },
          "metadata": {},
          "execution_count": 242
        }
      ],
      "source": [
        "#checking the null Values\n",
        "cus_df.marital.isnull().sum()"
      ]
    },
    {
      "cell_type": "code",
      "execution_count": null,
      "metadata": {
        "colab": {
          "base_uri": "https://localhost:8080/"
        },
        "id": "MIBPZPAo_yYz",
        "outputId": "b768c41c-b4a2-4869-84a5-89ad110a98ad"
      },
      "outputs": [
        {
          "output_type": "execute_result",
          "data": {
            "text/plain": [
              "married     27007\n",
              "single      12720\n",
              "divorced     5190\n",
              "Name: marital, dtype: int64"
            ]
          },
          "metadata": {},
          "execution_count": 243
        }
      ],
      "source": [
        "#value count for each kind of marriage\n",
        "cus_df['marital'].value_counts()"
      ]
    },
    {
      "cell_type": "code",
      "source": [
        "cus_df.groupby('marital')['target'].mean()"
      ],
      "metadata": {
        "colab": {
          "base_uri": "https://localhost:8080/"
        },
        "id": "HGqXYlUZISc0",
        "outputId": "75d87e5e-67fd-40d3-e910-bd2719989707"
      },
      "execution_count": null,
      "outputs": [
        {
          "output_type": "execute_result",
          "data": {
            "text/plain": [
              "marital\n",
              "divorced    0.119653\n",
              "married     0.101233\n",
              "single      0.149371\n",
              "Name: target, dtype: float64"
            ]
          },
          "metadata": {},
          "execution_count": 244
        }
      ]
    },
    {
      "cell_type": "markdown",
      "source": [
        "Conversion rate is higher in single followed by divorced and married people"
      ],
      "metadata": {
        "id": "BoEkF33QIaU5"
      }
    },
    {
      "cell_type": "markdown",
      "metadata": {
        "id": "DVxjTXnaAZXs"
      },
      "source": [
        "**Education_qual** -- Column"
      ]
    },
    {
      "cell_type": "code",
      "execution_count": null,
      "metadata": {
        "colab": {
          "base_uri": "https://localhost:8080/"
        },
        "id": "ncpYcauEAXsy",
        "outputId": "d20157a1-5d93-4a0b-b0d4-b170e9512dd5"
      },
      "outputs": [
        {
          "output_type": "execute_result",
          "data": {
            "text/plain": [
              "0"
            ]
          },
          "metadata": {},
          "execution_count": 245
        }
      ],
      "source": [
        "#checking the null Values\n",
        "cus_df['education_qual'].isnull().sum()"
      ]
    },
    {
      "cell_type": "code",
      "execution_count": null,
      "metadata": {
        "colab": {
          "base_uri": "https://localhost:8080/"
        },
        "id": "qg1Nu-wh9Cz7",
        "outputId": "2a08a1b0-42a0-422f-8bdd-db44f2f1735f"
      },
      "outputs": [
        {
          "output_type": "execute_result",
          "data": {
            "text/plain": [
              "array(['tertiary', 'secondary', 'unknown', 'primary'], dtype=object)"
            ]
          },
          "metadata": {},
          "execution_count": 246
        }
      ],
      "source": [
        "#unique values in education column\n",
        "cus_df['education_qual'].unique()"
      ]
    },
    {
      "cell_type": "code",
      "execution_count": null,
      "metadata": {
        "colab": {
          "base_uri": "https://localhost:8080/"
        },
        "id": "ShbAQovs97zP",
        "outputId": "c13f65f8-a6db-43c6-91f5-36700fc325dc"
      },
      "outputs": [
        {
          "output_type": "execute_result",
          "data": {
            "text/plain": [
              "secondary    23128\n",
              "tertiary     13260\n",
              "primary       6799\n",
              "unknown       1730\n",
              "Name: education_qual, dtype: int64"
            ]
          },
          "metadata": {},
          "execution_count": 247
        }
      ],
      "source": [
        "#value counts in Education Column\n",
        "cus_df['education_qual'].value_counts()"
      ]
    },
    {
      "cell_type": "code",
      "execution_count": null,
      "metadata": {
        "colab": {
          "base_uri": "https://localhost:8080/"
        },
        "id": "1crmfPIY972O",
        "outputId": "a0f994e9-75e4-4575-fe55-16577c56b9cd"
      },
      "outputs": [
        {
          "output_type": "stream",
          "name": "stdout",
          "text": [
            "The percentage of unknown data is: 3.8515484115145715\n"
          ]
        }
      ],
      "source": [
        "print(\"The percentage of unknown data is:\", ((cus_df['education_qual']=='unknown').sum() / cus_df.shape[0])*100)"
      ]
    },
    {
      "cell_type": "code",
      "execution_count": null,
      "metadata": {
        "colab": {
          "base_uri": "https://localhost:8080/"
        },
        "id": "9xbCTMrN9XKL",
        "outputId": "3151c5ca-f628-4c1c-81a6-79deb7b4e51c"
      },
      "outputs": [
        {
          "output_type": "execute_result",
          "data": {
            "text/plain": [
              "secondary    23128\n",
              "tertiary     13260\n",
              "primary       6799\n",
              "unknown       1730\n",
              "Name: education_qual, dtype: int64"
            ]
          },
          "metadata": {},
          "execution_count": 249
        }
      ],
      "source": [
        "cus_df['education_qual'].value_counts()"
      ]
    },
    {
      "cell_type": "code",
      "source": [
        "cus_df.groupby('education_qual')['target'].mean()"
      ],
      "metadata": {
        "colab": {
          "base_uri": "https://localhost:8080/"
        },
        "id": "byPFHnr4H4MK",
        "outputId": "db706f90-fefb-4ae9-f341-a7b588e9b01d"
      },
      "execution_count": null,
      "outputs": [
        {
          "output_type": "execute_result",
          "data": {
            "text/plain": [
              "education_qual\n",
              "primary      0.086483\n",
              "secondary    0.105543\n",
              "tertiary     0.150226\n",
              "unknown      0.135260\n",
              "Name: target, dtype: float64"
            ]
          },
          "metadata": {},
          "execution_count": 250
        }
      ]
    },
    {
      "cell_type": "markdown",
      "metadata": {
        "id": "3TMdQmVHEkfj"
      },
      "source": [
        "**Call type** -- Column"
      ]
    },
    {
      "cell_type": "code",
      "execution_count": null,
      "metadata": {
        "colab": {
          "base_uri": "https://localhost:8080/"
        },
        "id": "i12WF06iCRgD",
        "outputId": "df55fc3e-4e6a-40fa-b9ec-0a1100b72526"
      },
      "outputs": [
        {
          "output_type": "execute_result",
          "data": {
            "text/plain": [
              "0"
            ]
          },
          "metadata": {},
          "execution_count": 251
        }
      ],
      "source": [
        "#checking the null Values\n",
        "cus_df['call_type'].isnull().sum()"
      ]
    },
    {
      "cell_type": "code",
      "execution_count": null,
      "metadata": {
        "colab": {
          "base_uri": "https://localhost:8080/"
        },
        "id": "aJyW2bVbGmGH",
        "outputId": "7871053d-78ba-48db-b423-3a7f85400f62"
      },
      "outputs": [
        {
          "output_type": "execute_result",
          "data": {
            "text/plain": [
              "cellular     29151\n",
              "unknown      12906\n",
              "telephone     2860\n",
              "Name: call_type, dtype: int64"
            ]
          },
          "metadata": {},
          "execution_count": 252
        }
      ],
      "source": [
        "#unique value and their counts in calltype\n",
        "cus_df['call_type'].value_counts()"
      ]
    },
    {
      "cell_type": "code",
      "execution_count": null,
      "metadata": {
        "colab": {
          "base_uri": "https://localhost:8080/"
        },
        "id": "1xH5wMa-GmJG",
        "outputId": "c61b70a8-c2ce-43cb-ad87-cfe254753d71"
      },
      "outputs": [
        {
          "output_type": "stream",
          "name": "stdout",
          "text": [
            "The percentage of unknown data is: 28.732996415611016\n"
          ]
        }
      ],
      "source": [
        "print(\"The percentage of unknown data is:\", ((cus_df['call_type']=='unknown').sum()/cus_df.shape[0])*100)"
      ]
    },
    {
      "cell_type": "markdown",
      "source": [
        "Considering the unknown as separate category because percentage of unknown is more so neither imputing with mode nor deleting"
      ],
      "metadata": {
        "id": "0BBlB0QQ-mtg"
      }
    },
    {
      "cell_type": "markdown",
      "metadata": {
        "id": "TMSAsO2zH4TT"
      },
      "source": [
        " **Day** -- Column"
      ]
    },
    {
      "cell_type": "code",
      "execution_count": null,
      "metadata": {
        "colab": {
          "base_uri": "https://localhost:8080/"
        },
        "id": "itIQ6k3LGmMq",
        "outputId": "85f58861-65b7-4be2-a93c-f199aad9a1d3"
      },
      "outputs": [
        {
          "output_type": "execute_result",
          "data": {
            "text/plain": [
              "0"
            ]
          },
          "metadata": {},
          "execution_count": 254
        }
      ],
      "source": [
        "#checking the null Values\n",
        "cus_df.age.isnull().sum()"
      ]
    },
    {
      "cell_type": "markdown",
      "metadata": {
        "id": "j80wY2N5LZu6"
      },
      "source": [
        "**Month** --Column"
      ]
    },
    {
      "cell_type": "code",
      "execution_count": null,
      "metadata": {
        "colab": {
          "base_uri": "https://localhost:8080/"
        },
        "id": "E3xf97sh8zYf",
        "outputId": "6e2bba17-cd94-4f22-812b-e12a991d5230"
      },
      "outputs": [
        {
          "output_type": "execute_result",
          "data": {
            "text/plain": [
              "0"
            ]
          },
          "metadata": {},
          "execution_count": 256
        }
      ],
      "source": [
        "#checking the null Values\n",
        "cus_df.mon.isnull().sum()"
      ]
    },
    {
      "cell_type": "code",
      "execution_count": null,
      "metadata": {
        "colab": {
          "base_uri": "https://localhost:8080/"
        },
        "id": "oHmpfcDuGmbn",
        "outputId": "201b2c06-bff1-4e4e-b1bd-9109703819ee"
      },
      "outputs": [
        {
          "output_type": "execute_result",
          "data": {
            "text/plain": [
              "may    13734\n",
              "jul     6863\n",
              "aug     6182\n",
              "jun     5249\n",
              "nov     3956\n",
              "apr     2925\n",
              "feb     2636\n",
              "jan     1388\n",
              "oct      727\n",
              "sep      570\n",
              "mar      474\n",
              "dec      213\n",
              "Name: mon, dtype: int64"
            ]
          },
          "metadata": {},
          "execution_count": 257
        }
      ],
      "source": [
        "#unique value and their counts in calltype\n",
        "cus_df['mon'].value_counts()"
      ]
    },
    {
      "cell_type": "code",
      "source": [
        "cus_df.groupby('mon')['target'].mean()"
      ],
      "metadata": {
        "colab": {
          "base_uri": "https://localhost:8080/"
        },
        "id": "Ai0wLhXaGMe6",
        "outputId": "b30e6078-8537-4ae4-f22c-b033dec22ca1"
      },
      "execution_count": null,
      "outputs": [
        {
          "output_type": "execute_result",
          "data": {
            "text/plain": [
              "mon\n",
              "apr    0.195214\n",
              "aug    0.110482\n",
              "dec    0.469484\n",
              "feb    0.165781\n",
              "jan    0.100144\n",
              "jul    0.091214\n",
              "jun    0.103829\n",
              "mar    0.521097\n",
              "may    0.067133\n",
              "nov    0.101365\n",
              "oct    0.437414\n",
              "sep    0.466667\n",
              "Name: target, dtype: float64"
            ]
          },
          "metadata": {},
          "execution_count": 258
        }
      ]
    },
    {
      "cell_type": "markdown",
      "source": [
        "**Even the number of calls in December, March, October month is less but the conversion rate is around 50% compared to May and july months where number of calls is 40% percent of data but the coversion rate is low which is less than 10%**"
      ],
      "metadata": {
        "id": "KbfYdSfHGSX8"
      }
    },
    {
      "cell_type": "markdown",
      "metadata": {
        "id": "CvHgCGYkLk3K"
      },
      "source": [
        "**Duration** -- Column"
      ]
    },
    {
      "cell_type": "code",
      "execution_count": null,
      "metadata": {
        "colab": {
          "base_uri": "https://localhost:8080/"
        },
        "id": "iWtWOj0v9QiO",
        "outputId": "4c3bf150-f6cb-426d-972a-8daf0141528f"
      },
      "outputs": [
        {
          "output_type": "execute_result",
          "data": {
            "text/plain": [
              "0"
            ]
          },
          "metadata": {},
          "execution_count": 259
        }
      ],
      "source": [
        "#checking the null Values\n",
        "cus_df.dur.isnull().sum()"
      ]
    },
    {
      "cell_type": "code",
      "execution_count": null,
      "metadata": {
        "colab": {
          "base_uri": "https://localhost:8080/"
        },
        "id": "TSMSKdJeLinb",
        "outputId": "8946d647-14b5-474e-83c8-c9ff3c8a8d51"
      },
      "outputs": [
        {
          "output_type": "stream",
          "name": "stdout",
          "text": [
            "Minimum duration of call is: 0 sec\n",
            "Maximum duration of call is: 4918 sec\n"
          ]
        }
      ],
      "source": [
        "print(\"Minimum duration of call is:\",(cus_df['dur']).min(),\"sec\")\n",
        "print(\"Maximum duration of call is:\",(cus_df['dur']).max(),\"sec\")"
      ]
    },
    {
      "cell_type": "code",
      "source": [
        "detect_outliers(cus_df, 'dur')"
      ],
      "metadata": {
        "colab": {
          "base_uri": "https://localhost:8080/"
        },
        "id": "4Uszxonq_khZ",
        "outputId": "cfa4e444-3db6-4da7-cfb5-034ef8c6bd42"
      },
      "execution_count": null,
      "outputs": [
        {
          "output_type": "stream",
          "name": "stdout",
          "text": [
            "LowerFence: -221.0, UpperFence: 643.0\n",
            "3217 Outliers present in dur\n"
          ]
        }
      ]
    },
    {
      "cell_type": "code",
      "execution_count": null,
      "metadata": {
        "colab": {
          "base_uri": "https://localhost:8080/",
          "height": 318
        },
        "id": "UR1WP2Xv9KAf",
        "outputId": "ddbb871c-174a-46df-f3fc-824be3630f59"
      },
      "outputs": [
        {
          "output_type": "execute_result",
          "data": {
            "text/plain": [
              "Text(0.5, 1.0, 'checking outliers in Duration')"
            ]
          },
          "metadata": {},
          "execution_count": 262
        },
        {
          "output_type": "display_data",
          "data": {
            "text/plain": [
              "<Figure size 432x288 with 1 Axes>"
            ],
            "image/png": "[encoded data removed]"
          },
          "metadata": {}
        }
      ],
      "source": [
        "#checking outliers in duration column\n",
        "sns.boxplot('dur',data=cus_df)\n",
        "plt.title(\"checking outliers in Duration\")"
      ]
    },
    {
      "cell_type": "code",
      "execution_count": null,
      "metadata": {
        "colab": {
          "base_uri": "https://localhost:8080/"
        },
        "id": "jLSDF67eGmg-",
        "outputId": "ed30add3-11d3-416f-f0bb-6d24ee8854dc"
      },
      "outputs": [
        {
          "output_type": "execute_result",
          "data": {
            "text/plain": [
              "count    44917.000000\n",
              "mean       258.314959\n",
              "std        257.724537\n",
              "min          0.000000\n",
              "25%        103.000000\n",
              "50%        180.000000\n",
              "75%        319.000000\n",
              "max       4918.000000\n",
              "Name: dur, dtype: float64"
            ]
          },
          "metadata": {},
          "execution_count": 263
        }
      ],
      "source": [
        "cus_df.dur.describe()"
      ]
    },
    {
      "cell_type": "markdown",
      "metadata": {
        "id": "mKFhZesgNL68"
      },
      "source": [
        "There are many outliers, so going to clipping the outliers "
      ]
    },
    {
      "cell_type": "code",
      "source": [
        "clip_outliers(cus_df,'dur')"
      ],
      "metadata": {
        "id": "gZnkm1vX_yIS"
      },
      "execution_count": null,
      "outputs": []
    },
    {
      "cell_type": "code",
      "source": [
        "#checking outliers in duration column after clipping outliers\n",
        "sns.boxplot('dur',data=cus_df)\n",
        "plt.title(\"checking outliers in Duration after clipping\")"
      ],
      "metadata": {
        "colab": {
          "base_uri": "https://localhost:8080/",
          "height": 318
        },
        "id": "U7OVtPUj_5xC",
        "outputId": "399b03e6-c04f-48aa-8a90-d4ad16f78c48"
      },
      "execution_count": null,
      "outputs": [
        {
          "output_type": "execute_result",
          "data": {
            "text/plain": [
              "Text(0.5, 1.0, 'checking outliers in Duration after clipping')"
            ]
          },
          "metadata": {},
          "execution_count": 265
        },
        {
          "output_type": "display_data",
          "data": {
            "text/plain": [
              "<Figure size 432x288 with 1 Axes>"
            ],
            "image/png": "[encoded data removed]"
          },
          "metadata": {}
        }
      ]
    },
    {
      "cell_type": "markdown",
      "metadata": {
        "id": "3BosSyJmNlNj"
      },
      "source": [
        "**Number_calls** -- Column"
      ]
    },
    {
      "cell_type": "code",
      "execution_count": null,
      "metadata": {
        "colab": {
          "base_uri": "https://localhost:8080/"
        },
        "id": "k8iyMPZgL6Jy",
        "outputId": "48c1d443-4475-4752-f7aa-5200fc496f9d"
      },
      "outputs": [
        {
          "output_type": "execute_result",
          "data": {
            "text/plain": [
              "0"
            ]
          },
          "metadata": {},
          "execution_count": 266
        }
      ],
      "source": [
        "#checking the null Values\n",
        "cus_df['num_calls'].isnull().sum()"
      ]
    },
    {
      "cell_type": "code",
      "execution_count": null,
      "metadata": {
        "colab": {
          "base_uri": "https://localhost:8080/"
        },
        "id": "QImr2R98NtX7",
        "outputId": "cd610497-43e4-4011-b434-6883b8558c2d"
      },
      "outputs": [
        {
          "output_type": "execute_result",
          "data": {
            "text/plain": [
              "array([ 1,  2,  3,  5,  4,  6,  7,  8,  9, 10, 11, 12, 13, 19, 14, 24, 16,\n",
              "       32, 18, 22, 15, 17, 25, 21, 43, 51, 63, 41, 26, 28, 55, 50, 38, 23,\n",
              "       20, 29, 31, 37, 30, 46, 27, 58, 33, 35, 34, 36, 39, 44])"
            ]
          },
          "metadata": {},
          "execution_count": 267
        }
      ],
      "source": [
        "#Checking unique values\n",
        "cus_df['num_calls'].unique()"
      ]
    },
    {
      "cell_type": "code",
      "execution_count": null,
      "metadata": {
        "colab": {
          "base_uri": "https://localhost:8080/"
        },
        "id": "0QsRp92sN06L",
        "outputId": "2a0ae082-fa87-4fe4-8772-13999b07affd"
      },
      "outputs": [
        {
          "output_type": "execute_result",
          "data": {
            "text/plain": [
              "count    44917.000000\n",
              "mean         2.760403\n",
              "std          3.093007\n",
              "min          1.000000\n",
              "25%          1.000000\n",
              "50%          2.000000\n",
              "75%          3.000000\n",
              "max         63.000000\n",
              "Name: num_calls, dtype: float64"
            ]
          },
          "metadata": {},
          "execution_count": 268
        }
      ],
      "source": [
        "#Statistical information of num_calls\n",
        "cus_df.num_calls.describe()"
      ]
    },
    {
      "cell_type": "markdown",
      "source": [
        "From the above data 75% of data have below 3 number of calls. Above 30 number of calls are not possible in real world seen to be those are outliers"
      ],
      "metadata": {
        "id": "artE3m0_JmbU"
      }
    },
    {
      "cell_type": "code",
      "source": [
        "#detecting outliers of num_calls column\n",
        "detect_outliers(cus_df, 'num_calls')"
      ],
      "metadata": {
        "colab": {
          "base_uri": "https://localhost:8080/"
        },
        "id": "_EaKpwBqAO5g",
        "outputId": "91196fb6-7d46-4a2a-907f-da2f3ac12ee7"
      },
      "execution_count": null,
      "outputs": [
        {
          "output_type": "stream",
          "name": "stdout",
          "text": [
            "LowerFence: -2.0, UpperFence: 6.0\n",
            "3031 Outliers present in num_calls\n"
          ]
        }
      ]
    },
    {
      "cell_type": "code",
      "source": [
        "#checking outliers in day column\n",
        "sns.boxplot('num_calls',data=cus_df)\n",
        "plt.title(\"checking outliers in Number of calls\")"
      ],
      "metadata": {
        "colab": {
          "base_uri": "https://localhost:8080/",
          "height": 318
        },
        "id": "GI8f-UPIAjrH",
        "outputId": "d9a1f5a5-2a63-46b8-89c5-55cf0490f0ff"
      },
      "execution_count": null,
      "outputs": [
        {
          "output_type": "execute_result",
          "data": {
            "text/plain": [
              "Text(0.5, 1.0, 'checking outliers in Number of calls')"
            ]
          },
          "metadata": {},
          "execution_count": 271
        },
        {
          "output_type": "display_data",
          "data": {
            "text/plain": [
              "<Figure size 432x288 with 1 Axes>"
            ],
            "image/png": "[encoded data removed]"
          },
          "metadata": {}
        }
      ]
    },
    {
      "cell_type": "code",
      "source": [
        "#clipping outliers\n",
        "clip_outliers(cus_df,'num_calls')"
      ],
      "metadata": {
        "id": "z8RiJPc6Ac5W"
      },
      "execution_count": null,
      "outputs": []
    },
    {
      "cell_type": "code",
      "source": [
        "#checking outliers in Number of calls column after clipping outliers\n",
        "sns.boxplot('num_calls',data=cus_df)\n",
        "plt.title(\"checking outliers in Number of calls  after clipping\")"
      ],
      "metadata": {
        "colab": {
          "base_uri": "https://localhost:8080/",
          "height": 318
        },
        "id": "rS3FGTpNAupE",
        "outputId": "f160b9a0-5bdf-401d-8b7d-761eae58dad0"
      },
      "execution_count": null,
      "outputs": [
        {
          "output_type": "execute_result",
          "data": {
            "text/plain": [
              "Text(0.5, 1.0, 'checking outliers in Number of calls  after clipping')"
            ]
          },
          "metadata": {},
          "execution_count": 273
        },
        {
          "output_type": "display_data",
          "data": {
            "text/plain": [
              "<Figure size 432x288 with 1 Axes>"
            ],
            "image/png": "[encoded data removed]"
          },
          "metadata": {}
        }
      ]
    },
    {
      "cell_type": "markdown",
      "metadata": {
        "id": "lKOyRxIJSkU6"
      },
      "source": [
        "**Prev_outcome** -- Column"
      ]
    },
    {
      "cell_type": "code",
      "execution_count": null,
      "metadata": {
        "colab": {
          "base_uri": "https://localhost:8080/"
        },
        "id": "CfLj-ZRmR-mS",
        "outputId": "e0de2ee6-7a7b-4fc8-97b4-1e92c76aba19"
      },
      "outputs": [
        {
          "output_type": "execute_result",
          "data": {
            "text/plain": [
              "0"
            ]
          },
          "metadata": {},
          "execution_count": 274
        }
      ],
      "source": [
        "#checking the null Values\n",
        "cus_df['prev_outcome'].isnull().sum()"
      ]
    },
    {
      "cell_type": "code",
      "execution_count": null,
      "metadata": {
        "colab": {
          "base_uri": "https://localhost:8080/"
        },
        "id": "V9_ijeX0SpXq",
        "outputId": "ca91046e-13fd-4ce6-a0cb-f8c497df8567"
      },
      "outputs": [
        {
          "output_type": "execute_result",
          "data": {
            "text/plain": [
              "unknown    36698\n",
              "failure     4881\n",
              "other       1838\n",
              "success     1500\n",
              "Name: prev_outcome, dtype: int64"
            ]
          },
          "metadata": {},
          "execution_count": 275
        }
      ],
      "source": [
        "#checking the unique values and their counts\n",
        "cus_df['prev_outcome'].value_counts()"
      ]
    },
    {
      "cell_type": "code",
      "execution_count": null,
      "metadata": {
        "colab": {
          "base_uri": "https://localhost:8080/"
        },
        "id": "rukHlq-OStkz",
        "outputId": "c04e6a19-2b9c-43d4-8731-96df93dd01a4"
      },
      "outputs": [
        {
          "output_type": "stream",
          "name": "stdout",
          "text": [
            "The percentage of unknown data is: 81.70180555246344\n"
          ]
        }
      ],
      "source": [
        "print(\"The percentage of unknown data is:\", ((cus_df['prev_outcome']=='unknown').sum()/cus_df.shape[0])*100)"
      ]
    },
    {
      "cell_type": "code",
      "source": [
        "cus_df['target'] = cus_df['y'].map({\"yes\":1,\"no\":0})"
      ],
      "metadata": {
        "id": "0_PJicYEFDLN"
      },
      "execution_count": null,
      "outputs": []
    },
    {
      "cell_type": "code",
      "source": [
        "cus_df.groupby('prev_outcome')['target'].mean()"
      ],
      "metadata": {
        "colab": {
          "base_uri": "https://localhost:8080/"
        },
        "id": "b6YKpdTHFXwq",
        "outputId": "d1a0a9bb-e625-42bc-a226-bd520084e19d"
      },
      "execution_count": null,
      "outputs": [
        {
          "output_type": "execute_result",
          "data": {
            "text/plain": [
              "prev_outcome\n",
              "failure    0.125384\n",
              "other      0.166485\n",
              "success    0.646000\n",
              "unknown    0.091776\n",
              "Name: target, dtype: float64"
            ]
          },
          "metadata": {},
          "execution_count": 278
        }
      ]
    },
    {
      "cell_type": "markdown",
      "source": [
        "**whenver `previous outcome is success` there is a 64% chance of customers bought the insurance **"
      ],
      "metadata": {
        "id": "ZUrdJC8pFqLJ"
      }
    },
    {
      "cell_type": "code",
      "execution_count": null,
      "metadata": {
        "colab": {
          "base_uri": "https://localhost:8080/"
        },
        "id": "h-3GXHbHTBJj",
        "outputId": "65e99601-6807-41a8-d080-8042102a4c74"
      },
      "outputs": [
        {
          "output_type": "execute_result",
          "data": {
            "text/plain": [
              "Index(['age', 'job', 'marital', 'education_qual', 'call_type', 'day', 'mon',\n",
              "       'dur', 'num_calls', 'prev_outcome', 'y'],\n",
              "      dtype='object')"
            ]
          },
          "metadata": {},
          "execution_count": 72
        }
      ],
      "source": [
        "#column list after droping prev_outcome column\n",
        "cus_df.columns"
      ]
    },
    {
      "cell_type": "markdown",
      "metadata": {
        "id": "w1HKSPheTHW-"
      },
      "source": [
        "# **EXPLORATORY DATA ANALYSIS**"
      ]
    },
    {
      "cell_type": "code",
      "execution_count": null,
      "metadata": {
        "id": "FiO3pUT_orCs"
      },
      "outputs": [],
      "source": [
        "cus_df_yes = cus_df[cus_df['y'] == 'yes']\n",
        "cus_df_no = cus_df[cus_df['y'] == 'no']"
      ]
    },
    {
      "cell_type": "code",
      "execution_count": null,
      "metadata": {
        "id": "0m9tPahSpsZT"
      },
      "outputs": [],
      "source": [
        "#function to visualize the categorical columns\n",
        "def feature_vs_target(dataframe, feature, target):\n",
        "  \n",
        "  plt.figure(figsize=(16,6))\n",
        "  \n",
        "  plt.subplot(121)\n",
        "  sns.set_theme(style=\"darkgrid\",palette=\"bright\")\n",
        "  sns.countplot(x=feature, hue=target, data=cus_df, order=cus_df[feature].value_counts().index)\n",
        "  plt.title(feature + \" vs \" + target,fontsize = 20)\n",
        "  plt.xticks(rotation=60)\n",
        "  \n",
        "  plt.subplot(122)  \n",
        "  sns.countplot(x=feature, data=cus_df_yes, order=cus_df_yes[feature].value_counts().index)\n",
        "  plt.title(feature + \" vs who take insurance\",fontsize = 20)\n",
        "  plt.xticks(rotation=60)\n",
        "  plt.tight_layout()\n",
        "  plt.show()"
      ]
    },
    {
      "cell_type": "code",
      "execution_count": null,
      "metadata": {
        "colab": {
          "base_uri": "https://localhost:8080/",
          "height": 437
        },
        "id": "CdU3xIP6qSMo",
        "outputId": "7def382b-3775-4778-ee77-0290e9137c07"
      },
      "outputs": [
        {
          "output_type": "display_data",
          "data": {
            "text/plain": [
              "<Figure size 1152x432 with 2 Axes>"
            ],
            "image/png": "[encoded data removed]"
          },
          "metadata": {}
        }
      ],
      "source": [
        "#visualization for Job column\n",
        "feature_vs_target(cus_df,'job','y')"
      ]
    },
    {
      "cell_type": "code",
      "source": [
        "plt.figure(figsize=(16,6))\n",
        "(cus_df.groupby('job')['target'].mean()*100).sort_values().plot(kind = 'barh')\n",
        "plt.show()"
      ],
      "metadata": {
        "colab": {
          "base_uri": "https://localhost:8080/",
          "height": 377
        },
        "id": "t4EgAUSZKmM5",
        "outputId": "5de98338-ae24-4f2b-ad3e-6a0f0f5085b9"
      },
      "execution_count": null,
      "outputs": [
        {
          "output_type": "display_data",
          "data": {
            "text/plain": [
              "<Figure size 1152x432 with 1 Axes>"
            ],
            "image/png": "[encoded data removed]"
          },
          "metadata": {}
        }
      ]
    },
    {
      "cell_type": "markdown",
      "metadata": {
        "id": "CkczaaMbrHkA"
      },
      "source": [
        "**Interpretation of Job plots** \n",
        "1. Management people takes insurance compared to other professions\n",
        "2. Conversion rate is higher in students and retired category is better comapred to other category.Targetting those kind of category people helps to get more subscription"
      ]
    },
    {
      "cell_type": "code",
      "execution_count": null,
      "metadata": {
        "colab": {
          "base_uri": "https://localhost:8080/",
          "height": 437
        },
        "id": "1WanZNp5qStq",
        "outputId": "b5c39856-44ec-4f82-e9dd-1fa1f4b6f6ab"
      },
      "outputs": [
        {
          "output_type": "display_data",
          "data": {
            "text/plain": [
              "<Figure size 1152x432 with 2 Axes>"
            ],
            "image/png": "[encoded data removed]"
          },
          "metadata": {}
        }
      ],
      "source": [
        "#visualization for Marital column\n",
        "feature_vs_target(cus_df,'marital','y')"
      ]
    },
    {
      "cell_type": "code",
      "source": [
        "plt.figure(figsize=(8,5))\n",
        "(cus_df.groupby('marital')['target'].mean()*100).sort_values().plot(kind = 'barh')\n",
        "plt.show()"
      ],
      "metadata": {
        "colab": {
          "base_uri": "https://localhost:8080/",
          "height": 322
        },
        "id": "Zm9BlO58MLso",
        "outputId": "832251be-6893-4cb2-afc1-3fe7e0d8d407"
      },
      "execution_count": null,
      "outputs": [
        {
          "output_type": "display_data",
          "data": {
            "text/plain": [
              "<Figure size 576x360 with 1 Axes>"
            ],
            "image/png": "[encoded data removed]"
          },
          "metadata": {}
        }
      ]
    },
    {
      "cell_type": "markdown",
      "metadata": {
        "id": "zexmfGUKsM7L"
      },
      "source": [
        "**Interpretation of Marital plot** \n",
        "1. Married people taking insurance compared to single and divorced persons but the conversion rate is higher in single people(Reason-people in younger age purchase insurance may be because of low premium)compared to married and divorced people\n"
      ]
    },
    {
      "cell_type": "code",
      "execution_count": null,
      "metadata": {
        "colab": {
          "base_uri": "https://localhost:8080/",
          "height": 437
        },
        "id": "bIKx7mJZr1qy",
        "outputId": "b5d81ff0-1940-4c36-fcb4-d7e509740785"
      },
      "outputs": [
        {
          "output_type": "display_data",
          "data": {
            "text/plain": [
              "<Figure size 1152x432 with 2 Axes>"
            ],
            "image/png": "[encoded data removed]"
          },
          "metadata": {}
        }
      ],
      "source": [
        "#visualization for Education Qualification column\n",
        "feature_vs_target(cus_df,'education_qual','y')"
      ]
    },
    {
      "cell_type": "code",
      "source": [
        "plt.figure(figsize=(8,5))\n",
        "(cus_df.groupby('education_qual')['target'].mean()*100).sort_values().plot(kind = 'barh')\n",
        "plt.show()"
      ],
      "metadata": {
        "colab": {
          "base_uri": "https://localhost:8080/",
          "height": 322
        },
        "id": "at5qqnckNTRs",
        "outputId": "62141033-2a65-41ce-c92d-73af4547e314"
      },
      "execution_count": null,
      "outputs": [
        {
          "output_type": "display_data",
          "data": {
            "text/plain": [
              "<Figure size 576x360 with 1 Axes>"
            ],
            "image/png": "[encoded data removed]"
          },
          "metadata": {}
        }
      ]
    },
    {
      "cell_type": "markdown",
      "metadata": {
        "id": "qVijM-76tWoT"
      },
      "source": [
        "**Interpretation of Eduation Qualification plot** \n",
        "\n",
        "1. People who undergone seconday and tertiary education ie.12th class and above (college) have knowledge about insurance subscribed more "
      ]
    },
    {
      "cell_type": "code",
      "execution_count": null,
      "metadata": {
        "colab": {
          "base_uri": "https://localhost:8080/",
          "height": 437
        },
        "id": "HyMbjufBt2B3",
        "outputId": "8367631c-bd33-4b85-e0cc-d229840a207f"
      },
      "outputs": [
        {
          "output_type": "display_data",
          "data": {
            "text/plain": [
              "<Figure size 1152x432 with 2 Axes>"
            ],
            "image/png": "[encoded data removed]"
          },
          "metadata": {}
        }
      ],
      "source": [
        "#visualization for Month column\n",
        "feature_vs_target(cus_df,'mon','y')"
      ]
    },
    {
      "cell_type": "code",
      "source": [
        "plt.figure(figsize=(8,5))\n",
        "(cus_df.groupby('mon')['target'].mean()*100).sort_values().plot(kind = 'barh')\n",
        "plt.show()"
      ],
      "metadata": {
        "colab": {
          "base_uri": "https://localhost:8080/",
          "height": 322
        },
        "id": "G1aKsY0tNwAw",
        "outputId": "647c5df8-6f6f-40b9-aeaa-8327ad00d936"
      },
      "execution_count": null,
      "outputs": [
        {
          "output_type": "display_data",
          "data": {
            "text/plain": [
              "<Figure size 576x360 with 1 Axes>"
            ],
            "image/png": "[encoded data removed]"
          },
          "metadata": {}
        }
      ]
    },
    {
      "cell_type": "markdown",
      "metadata": {
        "id": "u1xJOV99uBz3"
      },
      "source": [
        "**Interpretation of Month plot** \n",
        "1. people take more insurance in the month of may but conversion rate of march, december and september is high which is around 50%\n"
      ]
    },
    {
      "cell_type": "code",
      "source": [
        "#visualization for previous outcome column\n",
        "feature_vs_target(cus_df,'prev_outcome','y')"
      ],
      "metadata": {
        "colab": {
          "base_uri": "https://localhost:8080/",
          "height": 437
        },
        "id": "jJQbkwnUQNm_",
        "outputId": "e923fbc0-e4b7-4f70-a3a6-17d0c4ad17be"
      },
      "execution_count": null,
      "outputs": [
        {
          "output_type": "display_data",
          "data": {
            "text/plain": [
              "<Figure size 1152x432 with 2 Axes>"
            ],
            "image/png": "[encoded data removed]"
          },
          "metadata": {}
        }
      ]
    },
    {
      "cell_type": "code",
      "source": [
        "plt.figure(figsize=(8,5))\n",
        "(cus_df.groupby('prev_outcome')['target'].mean()*100).sort_values().plot(kind = 'barh')\n",
        "plt.show()"
      ],
      "metadata": {
        "colab": {
          "base_uri": "https://localhost:8080/",
          "height": 322
        },
        "id": "5etvnIpxT_09",
        "outputId": "be27f477-cd84-4c7b-aabc-085859823579"
      },
      "execution_count": null,
      "outputs": [
        {
          "output_type": "display_data",
          "data": {
            "text/plain": [
              "<Figure size 576x360 with 1 Axes>"
            ],
            "image/png": "[encoded data removed]"
          },
          "metadata": {}
        }
      ]
    },
    {
      "cell_type": "markdown",
      "source": [
        "\n",
        "\n",
        "*   If the previous outcome is success then that person is more likely to purchase insurance beacuse the conversion rate is above 60% \n",
        "\n",
        "\n"
      ],
      "metadata": {
        "id": "F5zZfTVlUKJg"
      }
    },
    {
      "cell_type": "code",
      "source": [
        "#visualization for call type column\n",
        "feature_vs_target(cus_df,'prev_outcome','y')"
      ],
      "metadata": {
        "colab": {
          "base_uri": "https://localhost:8080/",
          "height": 437
        },
        "id": "q0TFXrNBel8K",
        "outputId": "de0f1f52-6f7d-4de2-b066-189e396b6e8b"
      },
      "execution_count": null,
      "outputs": [
        {
          "output_type": "display_data",
          "data": {
            "text/plain": [
              "<Figure size 1152x432 with 2 Axes>"
            ],
            "image/png": "[encoded data removed]"
          },
          "metadata": {}
        }
      ]
    },
    {
      "cell_type": "code",
      "source": [
        "plt.figure(figsize=(8,5))\n",
        "(cus_df.groupby('call_type')['target'].mean()*100).sort_values().plot(kind = 'barh')\n",
        "plt.show()"
      ],
      "metadata": {
        "colab": {
          "base_uri": "https://localhost:8080/",
          "height": 322
        },
        "id": "dzHQKOQKehyj",
        "outputId": "7feb87b7-6f5e-4679-a176-06bf18db810d"
      },
      "execution_count": null,
      "outputs": [
        {
          "output_type": "display_data",
          "data": {
            "text/plain": [
              "<Figure size 576x360 with 1 Axes>"
            ],
            "image/png": "[encoded data removed]"
          },
          "metadata": {}
        }
      ]
    },
    {
      "cell_type": "code",
      "execution_count": null,
      "metadata": {
        "colab": {
          "base_uri": "https://localhost:8080/",
          "height": 440
        },
        "id": "UNuQxsYl-HuW",
        "outputId": "b8600868-565a-4141-a709-8f6f7adffcc6"
      },
      "outputs": [
        {
          "output_type": "execute_result",
          "data": {
            "text/plain": [
              "Text(0, 0.5, 'Count')"
            ]
          },
          "metadata": {},
          "execution_count": 293
        },
        {
          "output_type": "display_data",
          "data": {
            "text/plain": [
              "<Figure size 1152x432 with 2 Axes>"
            ],
            "image/png": "[encoded data removed]"
          },
          "metadata": {}
        }
      ],
      "source": [
        "#Visualization of Numerical Columns\n",
        "plt.figure(figsize=(16,6))\n",
        "plt.subplot(1,2,1)\n",
        "sns.histplot(cus_df['day']) \n",
        "sns.set_theme(style=\"darkgrid\",palette=\"bright\")\n",
        "plt.title('Day Distribution', fontsize = 20) \n",
        "plt.xlabel('Day ',fontsize = 16) \n",
        "plt.xticks(rotation = 60,fontsize = 10) \n",
        "plt.ylabel('Count',fontsize = 16)\n",
        "\n",
        "plt.subplot(1,2,2)\n",
        "sns.histplot(cus_df['age']) \n",
        "sns.set_theme(style=\"darkgrid\",palette=\"bright\")\n",
        "plt.title('Age Distribution', fontsize = 20) \n",
        "plt.xlabel('Age ',fontsize = 16) \n",
        "plt.xticks(rotation = 60,fontsize = 10) \n",
        "plt.ylabel('Count',fontsize = 16)"
      ]
    },
    {
      "cell_type": "code",
      "source": [
        "plt.figure(figsize=(16,6))\n",
        "plt.subplot(1,2,1)\n",
        "sns.boxplot(data = cus_df,x='y',y='age')\n",
        "plt.title('Age vs Target(y)', fontsize = 20) \n",
        "plt.subplot(1,2,2)\n",
        "sns.boxplot(data = cus_df,x='y',y='day')\n",
        "plt.title('Day vs Target(y)', fontsize = 20) "
      ],
      "metadata": {
        "colab": {
          "base_uri": "https://localhost:8080/",
          "height": 432
        },
        "id": "bkZHklPfU1Hk",
        "outputId": "bec20bd0-82fc-4b9f-d70f-673b43ed40e8"
      },
      "execution_count": null,
      "outputs": [
        {
          "output_type": "execute_result",
          "data": {
            "text/plain": [
              "Text(0.5, 1.0, 'Day vs Target(y)')"
            ]
          },
          "metadata": {},
          "execution_count": 295
        },
        {
          "output_type": "display_data",
          "data": {
            "text/plain": [
              "<Figure size 1152x432 with 2 Axes>"
            ],
            "image/png": "[encoded data removed]"
          },
          "metadata": {}
        }
      ]
    },
    {
      "cell_type": "code",
      "source": [
        "plt.figure(figsize=(10,10))\n",
        "(cus_df.groupby('age')['target'].mean()*100).sort_values().plot(kind = 'barh')\n",
        "plt.show()"
      ],
      "metadata": {
        "colab": {
          "base_uri": "https://localhost:8080/",
          "height": 594
        },
        "id": "L2N7uY5HWin9",
        "outputId": "7e611fe6-6c9c-4311-a6a2-2e0fb95b12fa"
      },
      "execution_count": null,
      "outputs": [
        {
          "output_type": "display_data",
          "data": {
            "text/plain": [
              "<Figure size 720x720 with 1 Axes>"
            ],
            "image/png": "[encoded data removed]"
          },
          "metadata": {}
        }
      ]
    },
    {
      "cell_type": "markdown",
      "source": [
        "**Interpretation of Age plot**  - People who are in age above 60 have conversion rate of 50% and people in 20's also interested in   taking insurance"
      ],
      "metadata": {
        "id": "rIuAbAI5X8l6"
      }
    },
    {
      "cell_type": "code",
      "execution_count": null,
      "metadata": {
        "colab": {
          "base_uri": "https://localhost:8080/",
          "height": 365
        },
        "id": "W3ehB5n2AbFx",
        "outputId": "3e716ea5-7186-450c-97a1-796273b0013d"
      },
      "outputs": [
        {
          "output_type": "display_data",
          "data": {
            "text/plain": [
              "<Figure size 720x360 with 2 Axes>"
            ],
            "image/png": "[encoded data removed]"
          },
          "metadata": {}
        }
      ],
      "source": [
        "#visualizing the Call distribution and number of calls\n",
        "plt.figure(figsize=(10,5))\n",
        "plt.subplot(1,2,1)\n",
        "sns.set_theme(style=\"darkgrid\",palette=\"bright\")\n",
        "sns.histplot(cus_df['dur'],color = 'green')\n",
        "plt.title('Call duration distribution', fontsize = 20) \n",
        "plt.xlabel('call duration ',fontsize = 16) \n",
        "plt.xticks(rotation = 60,fontsize = 10) \n",
        "plt.xlim([0,1500])\n",
        "plt.ylabel('Count',fontsize = 16)\n",
        "\n",
        "plt.subplot(1,2,2)\n",
        "\n",
        "sns.distplot(cus_df['num_calls'],color = 'blue')\n",
        "plt.title('Number of calls', fontsize = 20) \n",
        "plt.xlabel('Number of calls ',fontsize = 16) \n",
        "plt.xticks(rotation = 60,fontsize = 10) \n",
        "plt.xlim([0,10])\n",
        "plt.ylabel('Count',fontsize = 16)\n",
        "plt.tight_layout()\n",
        "plt.show()"
      ]
    },
    {
      "cell_type": "code",
      "source": [
        "plt.figure(figsize=(16,6))\n",
        "plt.subplot(1,2,1)\n",
        "sns.boxplot(data = cus_df,x='y',y='dur')\n",
        "plt.title('Age vs Target(y)', fontsize = 20) \n",
        "plt.subplot(1,2,2)\n",
        "sns.boxplot(data = cus_df,x='y',y='num_calls')\n",
        "plt.title('Day vs Target(y)', fontsize = 20) "
      ],
      "metadata": {
        "colab": {
          "base_uri": "https://localhost:8080/",
          "height": 432
        },
        "id": "rog6g0PDYpg8",
        "outputId": "5b8f9906-a0e0-4940-bbda-f981428ec3ce"
      },
      "execution_count": null,
      "outputs": [
        {
          "output_type": "execute_result",
          "data": {
            "text/plain": [
              "Text(0.5, 1.0, 'Day vs Target(y)')"
            ]
          },
          "metadata": {},
          "execution_count": 298
        },
        {
          "output_type": "display_data",
          "data": {
            "text/plain": [
              "<Figure size 1152x432 with 2 Axes>"
            ],
            "image/png": "[encoded data removed]"
          },
          "metadata": {}
        }
      ]
    },
    {
      "cell_type": "markdown",
      "source": [
        "**Interpretation of call duration plot**  - More the duration more purchase of insurance.It is easy to convience if we talk to customer more"
      ],
      "metadata": {
        "id": "X5_qKk1JX7bO"
      }
    },
    {
      "cell_type": "code",
      "execution_count": null,
      "metadata": {
        "id": "Bstk51aDR-1_"
      },
      "outputs": [],
      "source": [
        "cus_df.to_csv('customer_conversion_final.csv')"
      ]
    },
    {
      "cell_type": "markdown",
      "metadata": {
        "id": "WzY6doqcJCoG"
      },
      "source": [
        "# **Label Encodeing**"
      ]
    },
    {
      "cell_type": "markdown",
      "source": [
        "Encoded in the order category have higher convesrion rate"
      ],
      "metadata": {
        "id": "iddHfEp7cnxN"
      }
    },
    {
      "cell_type": "code",
      "source": [
        "cus_df.columns"
      ],
      "metadata": {
        "colab": {
          "base_uri": "https://localhost:8080/"
        },
        "id": "0Gb_EUEbZXfQ",
        "outputId": "8ba53e38-737b-4987-d6e0-3026c52f0331"
      },
      "execution_count": null,
      "outputs": [
        {
          "output_type": "execute_result",
          "data": {
            "text/plain": [
              "Index(['age', 'job', 'marital', 'education_qual', 'call_type', 'day', 'mon',\n",
              "       'dur', 'num_calls', 'prev_outcome', 'y', 'target'],\n",
              "      dtype='object')"
            ]
          },
          "metadata": {},
          "execution_count": 300
        }
      ]
    },
    {
      "cell_type": "code",
      "execution_count": null,
      "metadata": {
        "colab": {
          "base_uri": "https://localhost:8080/"
        },
        "id": "SMTbWq-VH02l",
        "outputId": "2009625d-7f9c-441b-99e5-014850bdcfc5"
      },
      "outputs": [
        {
          "output_type": "execute_result",
          "data": {
            "text/plain": [
              "array(['management', 'technician', 'entrepreneur', 'blue-collar',\n",
              "       'retired', 'admin', 'services', 'self-employed', 'unemployed',\n",
              "       'housemaid', 'student'], dtype=object)"
            ]
          },
          "metadata": {},
          "execution_count": 301
        }
      ],
      "source": [
        "cus_df.job.unique()"
      ]
    },
    {
      "cell_type": "code",
      "execution_count": null,
      "metadata": {
        "id": "Yy82kOwLVfIw"
      },
      "outputs": [],
      "source": [
        "#job column\n",
        "cus_df.job = cus_df.job.map({'student':1,\n",
        "                             'retired': 2,\n",
        "                             'unemployed': 3,\n",
        "                             'management': 4,\n",
        "                             'admin': 5, \n",
        "                             'self-employed': 6, \n",
        "                             'technician': 7,\n",
        "                             'services': 8,\n",
        "                             'housemaid': 9,\n",
        "                             'entrepreneur': 10, \n",
        "                             'blue-collar': 11 })"
      ]
    },
    {
      "cell_type": "code",
      "execution_count": null,
      "metadata": {
        "id": "20SaLGmlKfAt"
      },
      "outputs": [],
      "source": [
        "#month column\n",
        "cus_df.mon = cus_df.mon.map({'mar': 1, \n",
        "                             'dec': 2,\n",
        "                             'sep': 3,\n",
        "                             'oct': 4,\n",
        "                             'apr': 5,\n",
        "                             'feb': 6,\n",
        "                             'aug': 7,\n",
        "                             'jun': 8,\n",
        "                             'nov': 9,\n",
        "                             'jan': 10,                                                       \n",
        "                             'jul': 11,                             \n",
        "                             'may':12})"
      ]
    },
    {
      "cell_type": "code",
      "execution_count": null,
      "metadata": {
        "id": "YN_0wT2PYoBq"
      },
      "outputs": [],
      "source": [
        "#target column\n",
        "cus_df.y = cus_df.y.map({'yes':1, 'no':0})"
      ]
    },
    {
      "cell_type": "code",
      "execution_count": null,
      "metadata": {
        "id": "EXsRXc-LYz8w"
      },
      "outputs": [],
      "source": [
        "#call type column\n",
        "cus_df.call_type =cus_df.call_type.map({'cellular':0,\n",
        "                                        'telephone':1,\n",
        "                                        'unknown':2})"
      ]
    },
    {
      "cell_type": "code",
      "execution_count": null,
      "metadata": {
        "id": "soVFRxyWF3gx"
      },
      "outputs": [],
      "source": [
        "#marital column\n",
        "cus_df.marital =cus_df.marital.map({'single':0,\n",
        "                                    'divorced':1,\n",
        "                                    'married':2})"
      ]
    },
    {
      "cell_type": "code",
      "execution_count": null,
      "metadata": {
        "id": "DdIHc-HBF3kL"
      },
      "outputs": [],
      "source": [
        "#education qualification\n",
        "cus_df.education_qual =cus_df.education_qual.map({'tertiary':0,\n",
        "                                                  'unknown':1,\n",
        "                                                  'secondary':2,\n",
        "                                                  'primary':1})"
      ]
    },
    {
      "cell_type": "code",
      "source": [
        "#previous outcome column\n",
        "cus_df.prev_outcome =cus_df.prev_outcome.map({'success':0,\n",
        "                                              'other':1,\n",
        "                                              'failure':2,\n",
        "                                              'unknown':3})"
      ],
      "metadata": {
        "id": "FLXXs-13fb3C"
      },
      "execution_count": null,
      "outputs": []
    },
    {
      "cell_type": "code",
      "execution_count": null,
      "metadata": {
        "colab": {
          "base_uri": "https://localhost:8080/"
        },
        "id": "BGdHn-o-ZWZs",
        "outputId": "d4142fed-a71d-4fb4-c388-f5fe20f8421b"
      },
      "outputs": [
        {
          "output_type": "execute_result",
          "data": {
            "text/plain": [
              "Index(['age', 'job', 'marital', 'education_qual', 'call_type', 'day', 'mon',\n",
              "       'dur', 'num_calls', 'prev_outcome', 'y', 'target'],\n",
              "      dtype='object')"
            ]
          },
          "metadata": {},
          "execution_count": 309
        }
      ],
      "source": [
        "cus_df.columns"
      ]
    },
    {
      "cell_type": "code",
      "source": [
        "cus_df['marital'].unique()"
      ],
      "metadata": {
        "colab": {
          "base_uri": "https://localhost:8080/"
        },
        "id": "iolT4BZBgS_d",
        "outputId": "5a01647f-f1a5-4109-f965-218defd6a1c0"
      },
      "execution_count": null,
      "outputs": [
        {
          "output_type": "execute_result",
          "data": {
            "text/plain": [
              "array([2, 0, 1])"
            ]
          },
          "metadata": {},
          "execution_count": 310
        }
      ]
    },
    {
      "cell_type": "code",
      "source": [
        "cus_df['prev_outcome'].unique()"
      ],
      "metadata": {
        "colab": {
          "base_uri": "https://localhost:8080/"
        },
        "id": "fFWuWL8tgsgP",
        "outputId": "74ee7e3f-c2d3-4ace-c16b-a355e7305089"
      },
      "execution_count": null,
      "outputs": [
        {
          "output_type": "execute_result",
          "data": {
            "text/plain": [
              "array([3, 2, 1, 0])"
            ]
          },
          "metadata": {},
          "execution_count": 311
        }
      ]
    },
    {
      "cell_type": "markdown",
      "metadata": {
        "id": "7DuoDBaTQRHG"
      },
      "source": [
        "# **Model Building**"
      ]
    },
    {
      "cell_type": "markdown",
      "metadata": {
        "id": "FLxzyFJUu-Z-"
      },
      "source": [
        "**Data Splitting and Scaling**"
      ]
    },
    {
      "cell_type": "code",
      "execution_count": null,
      "metadata": {
        "id": "jastifLPuF02"
      },
      "outputs": [],
      "source": [
        "X = cus_df[['age', 'job', 'marital', 'education_qual', 'call_type', 'day', 'mon','dur', 'num_calls','prev_outcome']].values"
      ]
    },
    {
      "cell_type": "code",
      "execution_count": null,
      "metadata": {
        "id": "jy8kF_eWfOca"
      },
      "outputs": [],
      "source": [
        "o_feature =cus_df[['age', 'job', 'marital', 'education_qual', 'call_type', 'day', 'mon',\n",
        "       'dur', 'num_calls','prev_outcome']]"
      ]
    },
    {
      "cell_type": "code",
      "execution_count": null,
      "metadata": {
        "id": "hyBVoFGNvYgC"
      },
      "outputs": [],
      "source": [
        "y = cus_df[['y']].values"
      ]
    },
    {
      "cell_type": "code",
      "execution_count": null,
      "metadata": {
        "colab": {
          "base_uri": "https://localhost:8080/"
        },
        "id": "mS30HzI5v7RS",
        "outputId": "b02d8518-a2c4-4a44-a5cb-fbfaf9ad9edc"
      },
      "outputs": [
        {
          "output_type": "stream",
          "name": "stdout",
          "text": [
            "Independent feature X has 44917 rows and 10 columns\n",
            "Dependent feature y has 44917 rows and 1 columns\n"
          ]
        }
      ],
      "source": [
        "print('Independent feature X has {} rows and {} columns'.format(X.shape[0],X.shape[1]))\n",
        "print('Dependent feature y has {} rows and {} columns'.format(y.shape[0],y.shape[1]))"
      ]
    },
    {
      "cell_type": "markdown",
      "metadata": {
        "id": "LjghG7MevuVO"
      },
      "source": [
        "**Splitting the data**"
      ]
    },
    {
      "cell_type": "code",
      "execution_count": null,
      "metadata": {
        "id": "XsnN-fs4vk1J"
      },
      "outputs": [],
      "source": [
        "from sklearn.model_selection import train_test_split\n",
        "X_train, X_test, y_train, y_test = train_test_split(X, y, test_size=0.2)"
      ]
    },
    {
      "cell_type": "code",
      "execution_count": null,
      "metadata": {
        "colab": {
          "base_uri": "https://localhost:8080/"
        },
        "id": "8G-p9ZAbvzhb",
        "outputId": "ed8eaee1-7840-4cff-fd4d-66f54bbd6fa1"
      },
      "outputs": [
        {
          "output_type": "stream",
          "name": "stdout",
          "text": [
            "The shape of X train: (35933, 10)\n",
            "The shape of X test: (8984, 10)\n",
            "The shape of y train: (35933, 1)\n",
            "The shape of y test: (8984, 1)\n"
          ]
        }
      ],
      "source": [
        "print(\"The shape of X train:\", X_train.shape)\n",
        "print(\"The shape of X test:\", X_test.shape)\n",
        "print(\"The shape of y train:\", y_train.shape)\n",
        "print(\"The shape of y test:\", y_test.shape)"
      ]
    },
    {
      "cell_type": "markdown",
      "metadata": {
        "id": "q9_cXuQNwsQW"
      },
      "source": [
        "**Scaling the data**"
      ]
    },
    {
      "cell_type": "code",
      "execution_count": null,
      "metadata": {
        "id": "Iu4BIJnvwp7O"
      },
      "outputs": [],
      "source": [
        "from sklearn.preprocessing import StandardScaler\n",
        "scaler = StandardScaler() \n",
        "scaler.fit(X_train,y_train) \n",
        "X_train_scaled = scaler.transform(X_train) \n",
        "X_test_scaled = scaler.transform(X_test)"
      ]
    },
    {
      "cell_type": "code",
      "execution_count": null,
      "metadata": {
        "colab": {
          "base_uri": "https://localhost:8080/"
        },
        "id": "4BNrhKQ5OmCX",
        "outputId": "6c8e5537-8e52-4153-fa98-a81a80e64db8"
      },
      "outputs": [
        {
          "output_type": "execute_result",
          "data": {
            "text/plain": [
              "age               0\n",
              "job               0\n",
              "marital           0\n",
              "education_qual    0\n",
              "call_type         0\n",
              "day               0\n",
              "mon               0\n",
              "dur               0\n",
              "num_calls         0\n",
              "prev_outcome      0\n",
              "y                 0\n",
              "target            0\n",
              "dtype: int64"
            ]
          },
          "metadata": {},
          "execution_count": 324
        }
      ],
      "source": [
        "cus_df.isnull().sum()"
      ]
    },
    {
      "cell_type": "markdown",
      "metadata": {
        "id": "7FQMXKDBze1V"
      },
      "source": [
        "**Balancing the target column**"
      ]
    },
    {
      "cell_type": "code",
      "execution_count": null,
      "metadata": {
        "colab": {
          "base_uri": "https://localhost:8080/"
        },
        "id": "k0JT3jShwo9e",
        "outputId": "0c5e058b-e175-4a26-d94a-04a1e1d450ac"
      },
      "outputs": [
        {
          "output_type": "stream",
          "name": "stdout",
          "text": [
            "Looking in indexes: https://pypi.org/simple, https://us-python.pkg.dev/colab-wheels/public/simple/\n",
            "Requirement already satisfied: imblearn in /usr/local/lib/python3.8/dist-packages (0.0)\n",
            "Requirement already satisfied: imbalanced-learn in /usr/local/lib/python3.8/dist-packages (from imblearn) (0.8.1)\n",
            "Requirement already satisfied: numpy>=1.13.3 in /usr/local/lib/python3.8/dist-packages (from imbalanced-learn->imblearn) (1.22.4)\n",
            "Requirement already satisfied: scipy>=0.19.1 in /usr/local/lib/python3.8/dist-packages (from imbalanced-learn->imblearn) (1.7.3)\n",
            "Requirement already satisfied: scikit-learn>=0.24 in /usr/local/lib/python3.8/dist-packages (from imbalanced-learn->imblearn) (1.0.2)\n",
            "Requirement already satisfied: joblib>=0.11 in /usr/local/lib/python3.8/dist-packages (from imbalanced-learn->imblearn) (1.2.0)\n",
            "Requirement already satisfied: threadpoolctl>=2.0.0 in /usr/local/lib/python3.8/dist-packages (from scikit-learn>=0.24->imbalanced-learn->imblearn) (3.1.0)\n"
          ]
        }
      ],
      "source": [
        "!pip install imblearn"
      ]
    },
    {
      "cell_type": "markdown",
      "metadata": {
        "id": "piPPX_R80Qy3"
      },
      "source": [
        "**Over sampling followed by under sampling**"
      ]
    },
    {
      "cell_type": "code",
      "execution_count": null,
      "metadata": {
        "id": "PrKUULPLwpES"
      },
      "outputs": [],
      "source": [
        "from imblearn.combine import SMOTEENN\n",
        "smt = SMOTEENN(sampling_strategy='all')\n",
        "X_smt, y_smt = smt.fit_resample(X_train_scaled, y_train)"
      ]
    },
    {
      "cell_type": "code",
      "execution_count": null,
      "metadata": {
        "colab": {
          "base_uri": "https://localhost:8080/"
        },
        "id": "WSPPUuyc02WT",
        "outputId": "38c0676b-2ad7-4e15-d747-7bd4ff65cd8d"
      },
      "outputs": [
        {
          "output_type": "execute_result",
          "data": {
            "text/plain": [
              "(56022,)"
            ]
          },
          "metadata": {},
          "execution_count": 327
        }
      ],
      "source": [
        "y_smt.shape"
      ]
    },
    {
      "cell_type": "markdown",
      "metadata": {
        "id": "rKb5XWcH1DxO"
      },
      "source": [
        "**Logistic Regression**"
      ]
    },
    {
      "cell_type": "code",
      "execution_count": null,
      "metadata": {
        "id": "Sa1zgUmm03Qt"
      },
      "outputs": [],
      "source": [
        "from sklearn.linear_model import LogisticRegression\n",
        "lr = LogisticRegression()\n",
        "lr.fit(X_smt,y_smt)\n",
        "y_pred = lr.predict(X_test_scaled)"
      ]
    },
    {
      "cell_type": "code",
      "execution_count": null,
      "metadata": {
        "colab": {
          "base_uri": "https://localhost:8080/"
        },
        "id": "fWtidasr3SM9",
        "outputId": "1ccd1a8a-9213-48fb-8a4b-a4b1efd990fa"
      },
      "outputs": [
        {
          "output_type": "execute_result",
          "data": {
            "text/plain": [
              "array([0, 0, 0, ..., 0, 0, 1])"
            ]
          },
          "metadata": {},
          "execution_count": 357
        }
      ],
      "source": [
        "y_pred"
      ]
    },
    {
      "cell_type": "code",
      "execution_count": null,
      "metadata": {
        "colab": {
          "base_uri": "https://localhost:8080/",
          "height": 302
        },
        "id": "ie41A5LV15Qa",
        "outputId": "d3a07abd-3620-4186-ab2c-be0110b1bbe7"
      },
      "outputs": [
        {
          "output_type": "execute_result",
          "data": {
            "text/plain": [
              "<sklearn.metrics._plot.roc_curve.RocCurveDisplay at 0x7fb026e5d850>"
            ]
          },
          "metadata": {},
          "execution_count": 358
        },
        {
          "output_type": "display_data",
          "data": {
            "text/plain": [
              "<Figure size 432x288 with 1 Axes>"
            ],
            "image/png": "[encoded data removed]"
          },
          "metadata": {}
        }
      ],
      "source": [
        "plot_roc_curve(lr, X_test_scaled, y_test)"
      ]
    },
    {
      "cell_type": "code",
      "execution_count": null,
      "metadata": {
        "colab": {
          "base_uri": "https://localhost:8080/"
        },
        "id": "M4xR3-Ih15YJ",
        "outputId": "6b6ae795-44fd-40fe-e4a8-2f07c1526e9c"
      },
      "outputs": [
        {
          "output_type": "execute_result",
          "data": {
            "text/plain": [
              "0.7757123775601068"
            ]
          },
          "metadata": {},
          "execution_count": 359
        }
      ],
      "source": [
        "#accuracy score for logistic Regression\n",
        "accuracy_score(y_test,y_pred) #accuracy"
      ]
    },
    {
      "cell_type": "code",
      "execution_count": null,
      "metadata": {
        "colab": {
          "base_uri": "https://localhost:8080/"
        },
        "id": "NkVSK2TL3evi",
        "outputId": "88d35ccc-f05f-48b3-be0f-a76a7dbca771"
      },
      "outputs": [
        {
          "output_type": "stream",
          "name": "stdout",
          "text": [
            "[[6073 1876]\n",
            " [ 139  896]]\n",
            "              precision    recall  f1-score   support\n",
            "\n",
            "           0       0.98      0.76      0.86      7949\n",
            "           1       0.32      0.87      0.47      1035\n",
            "\n",
            "    accuracy                           0.78      8984\n",
            "   macro avg       0.65      0.81      0.66      8984\n",
            "weighted avg       0.90      0.78      0.81      8984\n",
            "\n"
          ]
        }
      ],
      "source": [
        "print(confusion_matrix(y_test, y_pred))\n",
        "print(classification_report(y_test,y_pred))"
      ]
    },
    {
      "cell_type": "code",
      "source": [
        "#visualizing confusion matrix\n",
        "cm = confusion_matrix(y_test, y_pred)\n",
        "f = sns.heatmap(cm, annot=True, fmt='d')"
      ],
      "metadata": {
        "colab": {
          "base_uri": "https://localhost:8080/",
          "height": 269
        },
        "id": "Fqm4XIwby4FD",
        "outputId": "25660bb7-c964-4b49-b133-b7e65f7a92bd"
      },
      "execution_count": null,
      "outputs": [
        {
          "output_type": "display_data",
          "data": {
            "text/plain": [
              "<Figure size 432x288 with 2 Axes>"
            ],
            "image/png": "[encoded data removed]"
          },
          "metadata": {}
        }
      ]
    },
    {
      "cell_type": "markdown",
      "metadata": {
        "id": "mpf73Jbb48DF"
      },
      "source": [
        "**KNN Algorithm**"
      ]
    },
    {
      "cell_type": "code",
      "execution_count": null,
      "metadata": {
        "colab": {
          "base_uri": "https://localhost:8080/"
        },
        "id": "nWX6eMJB6qlr",
        "outputId": "2b1bcedd-062c-48d6-90aa-f5cac3e8f38b"
      },
      "outputs": [
        {
          "output_type": "stream",
          "name": "stdout",
          "text": [
            "K value  :  1  train score :  0.8786630673753931  cv score :  0.6338369745919754\n",
            "K value  :  2  train score :  0.8873458937466953  cv score :  0.6993465652553527\n",
            "K value  :  3  train score :  0.856622046586703  cv score :  0.7386447557409178\n",
            "K value  :  4  train score :  0.8630785072217738  cv score :  0.7647775514376325\n",
            "K value  :  5  train score :  0.8430968747390978  cv score :  0.7837070246861708\n",
            "K value  :  6  train score :  0.8495533353741686  cv score :  0.7944321159324721\n",
            "K value  :  7  train score :  0.8334956725016002  cv score :  0.8048643145987411\n",
            "K value  :  8  train score :  0.8401747697102941  cv score :  0.8120237777402691\n",
            "K value  :  9  train score :  0.8262321542871455  cv score :  0.8175474776569226\n",
            "K value  :  10  train score :  0.8338852865054407  cv score :  0.823941483669099\n",
            "K value  :  20  train score :  0.8156290874683438  cv score :  0.8487212715244115\n"
          ]
        }
      ],
      "source": [
        "for i in [1,2,3,4,5,6,7,8,9,10,20]:\n",
        "  knn = KNeighborsClassifier(i)\n",
        "  knn.fit(X_smt, y_smt) \n",
        "  print(\"K value  : \" , i, \" train score : \",knn.score(X_train_scaled, y_train) , \" cv score : \", np.mean(cross_val_score(knn, X_train, y_train, cv=10, scoring = \"roc_auc\"))) \n",
        "  "
      ]
    },
    {
      "cell_type": "code",
      "execution_count": null,
      "metadata": {
        "colab": {
          "base_uri": "https://localhost:8080/",
          "height": 394
        },
        "id": "XCdfSxyr_i5U",
        "outputId": "d2e3f607-52df-4025-b78c-0dc0d86a0ae9"
      },
      "outputs": [
        {
          "output_type": "execute_result",
          "data": {
            "text/plain": [
              "    K value  train score  cv score\n",
              "0         1     0.878663  0.633837\n",
              "1         2     0.887346  0.699347\n",
              "2         3     0.856622  0.738645\n",
              "3         4     0.863079  0.764778\n",
              "4         5     0.843097  0.783707\n",
              "5         6     0.849553  0.794432\n",
              "6         7     0.833496  0.804864\n",
              "7         8     0.840175  0.812024\n",
              "8         9     0.826232  0.817547\n",
              "9        10     0.833885  0.823941\n",
              "10       20     0.815629  0.848721"
            ],
            "text/html": [
              "\n",
              "  <div id=\"df-6065c63d-45ac-4fdf-b84e-cca8ea277789\">\n",
              "    <div class=\"colab-df-container\">\n",
              "      <div>\n",
              "<style scoped>\n",
              "    .dataframe tbody tr th:only-of-type {\n",
              "        vertical-align: middle;\n",
              "    }\n",
              "\n",
              "    .dataframe tbody tr th {\n",
              "        vertical-align: top;\n",
              "    }\n",
              "\n",
              "    .dataframe thead th {\n",
              "        text-align: right;\n",
              "    }\n",
              "</style>\n",
              "<table border=\"1\" class=\"dataframe\">\n",
              "  <thead>\n",
              "    <tr style=\"text-align: right;\">\n",
              "      <th></th>\n",
              "      <th>K value</th>\n",
              "      <th>train score</th>\n",
              "      <th>cv score</th>\n",
              "    </tr>\n",
              "  </thead>\n",
              "  <tbody>\n",
              "    <tr>\n",
              "      <th>0</th>\n",
              "      <td>1</td>\n",
              "      <td>0.878663</td>\n",
              "      <td>0.633837</td>\n",
              "    </tr>\n",
              "    <tr>\n",
              "      <th>1</th>\n",
              "      <td>2</td>\n",
              "      <td>0.887346</td>\n",
              "      <td>0.699347</td>\n",
              "    </tr>\n",
              "    <tr>\n",
              "      <th>2</th>\n",
              "      <td>3</td>\n",
              "      <td>0.856622</td>\n",
              "      <td>0.738645</td>\n",
              "    </tr>\n",
              "    <tr>\n",
              "      <th>3</th>\n",
              "      <td>4</td>\n",
              "      <td>0.863079</td>\n",
              "      <td>0.764778</td>\n",
              "    </tr>\n",
              "    <tr>\n",
              "      <th>4</th>\n",
              "      <td>5</td>\n",
              "      <td>0.843097</td>\n",
              "      <td>0.783707</td>\n",
              "    </tr>\n",
              "    <tr>\n",
              "      <th>5</th>\n",
              "      <td>6</td>\n",
              "      <td>0.849553</td>\n",
              "      <td>0.794432</td>\n",
              "    </tr>\n",
              "    <tr>\n",
              "      <th>6</th>\n",
              "      <td>7</td>\n",
              "      <td>0.833496</td>\n",
              "      <td>0.804864</td>\n",
              "    </tr>\n",
              "    <tr>\n",
              "      <th>7</th>\n",
              "      <td>8</td>\n",
              "      <td>0.840175</td>\n",
              "      <td>0.812024</td>\n",
              "    </tr>\n",
              "    <tr>\n",
              "      <th>8</th>\n",
              "      <td>9</td>\n",
              "      <td>0.826232</td>\n",
              "      <td>0.817547</td>\n",
              "    </tr>\n",
              "    <tr>\n",
              "      <th>9</th>\n",
              "      <td>10</td>\n",
              "      <td>0.833885</td>\n",
              "      <td>0.823941</td>\n",
              "    </tr>\n",
              "    <tr>\n",
              "      <th>10</th>\n",
              "      <td>20</td>\n",
              "      <td>0.815629</td>\n",
              "      <td>0.848721</td>\n",
              "    </tr>\n",
              "  </tbody>\n",
              "</table>\n",
              "</div>\n",
              "      <button class=\"colab-df-convert\" onclick=\"convertToInteractive('df-6065c63d-45ac-4fdf-b84e-cca8ea277789')\"\n",
              "              title=\"Convert this dataframe to an interactive table.\"\n",
              "              style=\"display:none;\">\n",
              "        \n",
              "  <svg xmlns=\"http://www.w3.org/2000/svg\" height=\"24px\"viewBox=\"0 0 24 24\"\n",
              "       width=\"24px\">\n",
              "    <path d=\"M0 0h24v24H0V0z\" fill=\"none\"/>\n",
              "    <path d=\"M18.56 5.44l.94 2.06.94-2.06 2.06-.94-2.06-.94-.94-2.06-.94 2.06-2.06.94zm-11 1L8.5 8.5l.94-2.06 2.06-.94-2.06-.94L8.5 2.5l-.94 2.06-2.06.94zm10 10l.94 2.06.94-2.06 2.06-.94-2.06-.94-.94-2.06-.94 2.06-2.06.94z\"/><path d=\"M17.41 7.96l-1.37-1.37c-.4-.4-.92-.59-1.43-.59-.52 0-1.04.2-1.43.59L10.3 9.45l-7.72 7.72c-.78.78-.78 2.05 0 2.83L4 21.41c.39.39.9.59 1.41.59.51 0 1.02-.2 1.41-.59l7.78-7.78 2.81-2.81c.8-.78.8-2.07 0-2.86zM5.41 20L4 18.59l7.72-7.72 1.47 1.35L5.41 20z\"/>\n",
              "  </svg>\n",
              "      </button>\n",
              "      \n",
              "  <style>\n",
              "    .colab-df-container {\n",
              "      display:flex;\n",
              "      flex-wrap:wrap;\n",
              "      gap: 12px;\n",
              "    }\n",
              "\n",
              "    .colab-df-convert {\n",
              "      background-color: #E8F0FE;\n",
              "      border: none;\n",
              "      border-radius: 50%;\n",
              "      cursor: pointer;\n",
              "      display: none;\n",
              "      fill: #1967D2;\n",
              "      height: 32px;\n",
              "      padding: 0 0 0 0;\n",
              "      width: 32px;\n",
              "    }\n",
              "\n",
              "    .colab-df-convert:hover {\n",
              "      background-color: #E2EBFA;\n",
              "      box-shadow: 0px 1px 2px rgba(60, 64, 67, 0.3), 0px 1px 3px 1px rgba(60, 64, 67, 0.15);\n",
              "      fill: #174EA6;\n",
              "    }\n",
              "\n",
              "    [theme=dark] .colab-df-convert {\n",
              "      background-color: #3B4455;\n",
              "      fill: #D2E3FC;\n",
              "    }\n",
              "\n",
              "    [theme=dark] .colab-df-convert:hover {\n",
              "      background-color: #434B5C;\n",
              "      box-shadow: 0px 1px 3px 1px rgba(0, 0, 0, 0.15);\n",
              "      filter: drop-shadow(0px 1px 2px rgba(0, 0, 0, 0.3));\n",
              "      fill: #FFFFFF;\n",
              "    }\n",
              "  </style>\n",
              "\n",
              "      <script>\n",
              "        const buttonEl =\n",
              "          document.querySelector('#df-6065c63d-45ac-4fdf-b84e-cca8ea277789 button.colab-df-convert');\n",
              "        buttonEl.style.display =\n",
              "          google.colab.kernel.accessAllowed ? 'block' : 'none';\n",
              "\n",
              "        async function convertToInteractive(key) {\n",
              "          const element = document.querySelector('#df-6065c63d-45ac-4fdf-b84e-cca8ea277789');\n",
              "          const dataTable =\n",
              "            await google.colab.kernel.invokeFunction('convertToInteractive',\n",
              "                                                     [key], {});\n",
              "          if (!dataTable) return;\n",
              "\n",
              "          const docLinkHtml = 'Like what you see? Visit the ' +\n",
              "            '<a target=\"_blank\" href=https://colab.research.google.com/notebooks/data_table.ipynb>data table notebook</a>'\n",
              "            + ' to learn more about interactive tables.';\n",
              "          element.innerHTML = '';\n",
              "          dataTable['output_type'] = 'display_data';\n",
              "          await google.colab.output.renderOutput(dataTable, element);\n",
              "          const docLink = document.createElement('div');\n",
              "          docLink.innerHTML = docLinkHtml;\n",
              "          element.appendChild(docLink);\n",
              "        }\n",
              "      </script>\n",
              "    </div>\n",
              "  </div>\n",
              "  "
            ]
          },
          "metadata": {},
          "execution_count": 334
        }
      ],
      "source": [
        "knn_dict = {'K value':[],'train score':[],'cv score':[]}\n",
        "for i in [1,2,3,4,5,6,7,8,9,10,20]:\n",
        "  knn = KNeighborsClassifier(i)\n",
        "  knn.fit(X_smt, y_smt)\n",
        "  knn_dict['K value'].append(i)\n",
        "  knn_dict['train score'].append(knn.score(X_train_scaled, y_train))\n",
        "  knn_dict['cv score'].append(np.mean(cross_val_score(knn, X_train, y_train, cv=10, scoring = \"roc_auc\")))\n",
        "\n",
        "pd.DataFrame(knn_dict)"
      ]
    },
    {
      "cell_type": "code",
      "execution_count": null,
      "metadata": {
        "id": "-loVHNXdCf_7"
      },
      "outputs": [],
      "source": [
        "knn = KNeighborsClassifier(10) #k-value = 10\n",
        "knn.fit(X_smt,y_smt)\n",
        "y_pred=knn.predict(X_test_scaled)"
      ]
    },
    {
      "cell_type": "code",
      "execution_count": null,
      "metadata": {
        "colab": {
          "base_uri": "https://localhost:8080/",
          "height": 302
        },
        "id": "t-2tZg3qF5Lc",
        "outputId": "1dc3e017-a854-40e2-a843-fa526f1e2c7d"
      },
      "outputs": [
        {
          "output_type": "execute_result",
          "data": {
            "text/plain": [
              "<sklearn.metrics._plot.roc_curve.RocCurveDisplay at 0x7fb027172670>"
            ]
          },
          "metadata": {},
          "execution_count": 364
        },
        {
          "output_type": "display_data",
          "data": {
            "text/plain": [
              "<Figure size 432x288 with 1 Axes>"
            ],
            "image/png": "[encoded data removed]"
          },
          "metadata": {}
        }
      ],
      "source": [
        "plot_roc_curve(knn, X_test_scaled, y_test)"
      ]
    },
    {
      "cell_type": "code",
      "execution_count": null,
      "metadata": {
        "colab": {
          "base_uri": "https://localhost:8080/"
        },
        "id": "a9vSGeyNF8sL",
        "outputId": "01c58bd7-0017-452c-ef66-044279219491"
      },
      "outputs": [
        {
          "output_type": "stream",
          "name": "stdout",
          "text": [
            "              precision    recall  f1-score   support\n",
            "\n",
            "           0       0.98      0.80      0.88      7949\n",
            "           1       0.36      0.85      0.50      1035\n",
            "\n",
            "    accuracy                           0.81      8984\n",
            "   macro avg       0.67      0.83      0.69      8984\n",
            "weighted avg       0.90      0.81      0.84      8984\n",
            "\n"
          ]
        }
      ],
      "source": [
        "print(classification_report(y_test,y_pred))"
      ]
    },
    {
      "cell_type": "code",
      "source": [
        "#visualizing confusion matrix\n",
        "cm = confusion_matrix(y_test, y_pred)\n",
        "f = sns.heatmap(cm, annot=True, fmt='d')"
      ],
      "metadata": {
        "colab": {
          "base_uri": "https://localhost:8080/",
          "height": 268
        },
        "id": "1wMtRhZO1euE",
        "outputId": "3b7f3812-5952-45d3-bf1b-14f0f62c21a1"
      },
      "execution_count": null,
      "outputs": [
        {
          "output_type": "display_data",
          "data": {
            "text/plain": [
              "<Figure size 432x288 with 2 Axes>"
            ],
            "image/png": "[encoded data removed]"
          },
          "metadata": {}
        }
      ]
    },
    {
      "cell_type": "markdown",
      "metadata": {
        "id": "MSf3395oRNG8"
      },
      "source": [
        "**Decision Tree**"
      ]
    },
    {
      "cell_type": "code",
      "execution_count": null,
      "metadata": {
        "colab": {
          "base_uri": "https://localhost:8080/"
        },
        "id": "d6E9ZQmVF8wk",
        "outputId": "5d9857ed-858e-4032-a523-b0f39ee87f5f"
      },
      "outputs": [
        {
          "output_type": "stream",
          "name": "stdout",
          "text": [
            "Depth  :  1  Training Accuracy :  0.6338741546767596  Cross val score :  0.8825592055039315\n",
            "Depth  :  2  Training Accuracy :  0.5724821195001809  Cross val score :  0.890574055686403\n",
            "Depth  :  3  Training Accuracy :  0.6818523362925445  Cross val score :  0.8979767590509029\n",
            "Depth  :  4  Training Accuracy :  0.7992652993070437  Cross val score :  0.9012608917264929\n",
            "Depth  :  5  Training Accuracy :  0.801491665043275  Cross val score :  0.8998136796321171\n",
            "Depth  :  6  Training Accuracy :  0.7508975036874183  Cross val score :  0.8990067250346583\n",
            "Depth  :  7  Training Accuracy :  0.7859349344613586  Cross val score :  0.9001755175036603\n",
            "Depth  :  8  Training Accuracy :  0.8145159046002282  Cross val score :  0.8989230047729301\n",
            "Depth  :  9  Training Accuracy :  0.8192469317897197  Cross val score :  0.8992292020857351\n",
            "Depth  :  10  Training Accuracy :  0.8410653160047867  Cross val score :  0.896640982953777\n",
            "Depth  :  20  Training Accuracy :  0.9078006289483205  Cross val score :  0.8771602359810184\n"
          ]
        }
      ],
      "source": [
        "for depth in [1,2,3,4,5,6,7,8,9,10,20]:\n",
        "  dt = DecisionTreeClassifier(max_depth=depth) \n",
        "  dt.fit(X_smt, y_smt) \n",
        "  trainAccuracy = accuracy_score(y_train, dt.predict(X_train_scaled)) \n",
        "  dt = DecisionTreeClassifier(max_depth=depth) \n",
        "  valAccuracy = cross_val_score(dt, X_train_scaled, y_train, cv=10) \n",
        "  print(\"Depth  : \", depth, \" Training Accuracy : \", trainAccuracy, \" Cross val score : \" ,np.mean(valAccuracy))"
      ]
    },
    {
      "cell_type": "code",
      "execution_count": null,
      "metadata": {
        "colab": {
          "base_uri": "https://localhost:8080/",
          "height": 394
        },
        "id": "xoeKuPL-M5dH",
        "outputId": "f1ac1fd9-3fef-4728-a83a-a08590b296f6"
      },
      "outputs": [
        {
          "output_type": "execute_result",
          "data": {
            "text/plain": [
              "    depth  train score  cv score\n",
              "0       1     0.633874  0.882559\n",
              "1       2     0.572482  0.890574\n",
              "2       3     0.681852  0.897977\n",
              "3       4     0.799265  0.901261\n",
              "4       5     0.801492  0.899814\n",
              "5       6     0.750981  0.899007\n",
              "6       7     0.785796  0.900064\n",
              "7       8     0.814265  0.898951\n",
              "8       9     0.818663  0.899034\n",
              "9      10     0.840926  0.896585\n",
              "10     20     0.908357  0.876270"
            ],
            "text/html": [
              "\n",
              "  <div id=\"df-0d45b298-89e0-4750-8b05-d2cf57dad4ed\">\n",
              "    <div class=\"colab-df-container\">\n",
              "      <div>\n",
              "<style scoped>\n",
              "    .dataframe tbody tr th:only-of-type {\n",
              "        vertical-align: middle;\n",
              "    }\n",
              "\n",
              "    .dataframe tbody tr th {\n",
              "        vertical-align: top;\n",
              "    }\n",
              "\n",
              "    .dataframe thead th {\n",
              "        text-align: right;\n",
              "    }\n",
              "</style>\n",
              "<table border=\"1\" class=\"dataframe\">\n",
              "  <thead>\n",
              "    <tr style=\"text-align: right;\">\n",
              "      <th></th>\n",
              "      <th>depth</th>\n",
              "      <th>train score</th>\n",
              "      <th>cv score</th>\n",
              "    </tr>\n",
              "  </thead>\n",
              "  <tbody>\n",
              "    <tr>\n",
              "      <th>0</th>\n",
              "      <td>1</td>\n",
              "      <td>0.633874</td>\n",
              "      <td>0.882559</td>\n",
              "    </tr>\n",
              "    <tr>\n",
              "      <th>1</th>\n",
              "      <td>2</td>\n",
              "      <td>0.572482</td>\n",
              "      <td>0.890574</td>\n",
              "    </tr>\n",
              "    <tr>\n",
              "      <th>2</th>\n",
              "      <td>3</td>\n",
              "      <td>0.681852</td>\n",
              "      <td>0.897977</td>\n",
              "    </tr>\n",
              "    <tr>\n",
              "      <th>3</th>\n",
              "      <td>4</td>\n",
              "      <td>0.799265</td>\n",
              "      <td>0.901261</td>\n",
              "    </tr>\n",
              "    <tr>\n",
              "      <th>4</th>\n",
              "      <td>5</td>\n",
              "      <td>0.801492</td>\n",
              "      <td>0.899814</td>\n",
              "    </tr>\n",
              "    <tr>\n",
              "      <th>5</th>\n",
              "      <td>6</td>\n",
              "      <td>0.750981</td>\n",
              "      <td>0.899007</td>\n",
              "    </tr>\n",
              "    <tr>\n",
              "      <th>6</th>\n",
              "      <td>7</td>\n",
              "      <td>0.785796</td>\n",
              "      <td>0.900064</td>\n",
              "    </tr>\n",
              "    <tr>\n",
              "      <th>7</th>\n",
              "      <td>8</td>\n",
              "      <td>0.814265</td>\n",
              "      <td>0.898951</td>\n",
              "    </tr>\n",
              "    <tr>\n",
              "      <th>8</th>\n",
              "      <td>9</td>\n",
              "      <td>0.818663</td>\n",
              "      <td>0.899034</td>\n",
              "    </tr>\n",
              "    <tr>\n",
              "      <th>9</th>\n",
              "      <td>10</td>\n",
              "      <td>0.840926</td>\n",
              "      <td>0.896585</td>\n",
              "    </tr>\n",
              "    <tr>\n",
              "      <th>10</th>\n",
              "      <td>20</td>\n",
              "      <td>0.908357</td>\n",
              "      <td>0.876270</td>\n",
              "    </tr>\n",
              "  </tbody>\n",
              "</table>\n",
              "</div>\n",
              "      <button class=\"colab-df-convert\" onclick=\"convertToInteractive('df-0d45b298-89e0-4750-8b05-d2cf57dad4ed')\"\n",
              "              title=\"Convert this dataframe to an interactive table.\"\n",
              "              style=\"display:none;\">\n",
              "        \n",
              "  <svg xmlns=\"http://www.w3.org/2000/svg\" height=\"24px\"viewBox=\"0 0 24 24\"\n",
              "       width=\"24px\">\n",
              "    <path d=\"M0 0h24v24H0V0z\" fill=\"none\"/>\n",
              "    <path d=\"M18.56 5.44l.94 2.06.94-2.06 2.06-.94-2.06-.94-.94-2.06-.94 2.06-2.06.94zm-11 1L8.5 8.5l.94-2.06 2.06-.94-2.06-.94L8.5 2.5l-.94 2.06-2.06.94zm10 10l.94 2.06.94-2.06 2.06-.94-2.06-.94-.94-2.06-.94 2.06-2.06.94z\"/><path d=\"M17.41 7.96l-1.37-1.37c-.4-.4-.92-.59-1.43-.59-.52 0-1.04.2-1.43.59L10.3 9.45l-7.72 7.72c-.78.78-.78 2.05 0 2.83L4 21.41c.39.39.9.59 1.41.59.51 0 1.02-.2 1.41-.59l7.78-7.78 2.81-2.81c.8-.78.8-2.07 0-2.86zM5.41 20L4 18.59l7.72-7.72 1.47 1.35L5.41 20z\"/>\n",
              "  </svg>\n",
              "      </button>\n",
              "      \n",
              "  <style>\n",
              "    .colab-df-container {\n",
              "      display:flex;\n",
              "      flex-wrap:wrap;\n",
              "      gap: 12px;\n",
              "    }\n",
              "\n",
              "    .colab-df-convert {\n",
              "      background-color: #E8F0FE;\n",
              "      border: none;\n",
              "      border-radius: 50%;\n",
              "      cursor: pointer;\n",
              "      display: none;\n",
              "      fill: #1967D2;\n",
              "      height: 32px;\n",
              "      padding: 0 0 0 0;\n",
              "      width: 32px;\n",
              "    }\n",
              "\n",
              "    .colab-df-convert:hover {\n",
              "      background-color: #E2EBFA;\n",
              "      box-shadow: 0px 1px 2px rgba(60, 64, 67, 0.3), 0px 1px 3px 1px rgba(60, 64, 67, 0.15);\n",
              "      fill: #174EA6;\n",
              "    }\n",
              "\n",
              "    [theme=dark] .colab-df-convert {\n",
              "      background-color: #3B4455;\n",
              "      fill: #D2E3FC;\n",
              "    }\n",
              "\n",
              "    [theme=dark] .colab-df-convert:hover {\n",
              "      background-color: #434B5C;\n",
              "      box-shadow: 0px 1px 3px 1px rgba(0, 0, 0, 0.15);\n",
              "      filter: drop-shadow(0px 1px 2px rgba(0, 0, 0, 0.3));\n",
              "      fill: #FFFFFF;\n",
              "    }\n",
              "  </style>\n",
              "\n",
              "      <script>\n",
              "        const buttonEl =\n",
              "          document.querySelector('#df-0d45b298-89e0-4750-8b05-d2cf57dad4ed button.colab-df-convert');\n",
              "        buttonEl.style.display =\n",
              "          google.colab.kernel.accessAllowed ? 'block' : 'none';\n",
              "\n",
              "        async function convertToInteractive(key) {\n",
              "          const element = document.querySelector('#df-0d45b298-89e0-4750-8b05-d2cf57dad4ed');\n",
              "          const dataTable =\n",
              "            await google.colab.kernel.invokeFunction('convertToInteractive',\n",
              "                                                     [key], {});\n",
              "          if (!dataTable) return;\n",
              "\n",
              "          const docLinkHtml = 'Like what you see? Visit the ' +\n",
              "            '<a target=\"_blank\" href=https://colab.research.google.com/notebooks/data_table.ipynb>data table notebook</a>'\n",
              "            + ' to learn more about interactive tables.';\n",
              "          element.innerHTML = '';\n",
              "          dataTable['output_type'] = 'display_data';\n",
              "          await google.colab.output.renderOutput(dataTable, element);\n",
              "          const docLink = document.createElement('div');\n",
              "          docLink.innerHTML = docLinkHtml;\n",
              "          element.appendChild(docLink);\n",
              "        }\n",
              "      </script>\n",
              "    </div>\n",
              "  </div>\n",
              "  "
            ]
          },
          "metadata": {},
          "execution_count": 339
        }
      ],
      "source": [
        "dt_dict = {'depth':[],'train score':[],'cv score':[]}\n",
        "for depth in [1,2,3,4,5,6,7,8,9,10,20]:\n",
        "  dt = DecisionTreeClassifier(max_depth=depth) \n",
        "  dt.fit(X_smt, y_smt) \n",
        "  #trainAccuracy = accuracy_score(y_train, dt.predict(X_train_scaled)) \n",
        "  #dt = DecisionTreeClassifier(max_depth=depth) \n",
        "  #valAccuracy = cross_val_score(dt, X_train_scaled, y_train, cv=10)\n",
        "  dt_dict['depth'].append(depth)\n",
        "  dt_dict['train score'].append(accuracy_score(y_train, dt.predict(X_train_scaled)))\n",
        "  dt_dict['cv score'].append(np.mean(cross_val_score(dt, X_train_scaled, y_train, cv=10)))\n",
        "\n",
        "pd.DataFrame(dt_dict)\n",
        "\n",
        "\n"
      ]
    },
    {
      "cell_type": "code",
      "execution_count": null,
      "metadata": {
        "id": "fTrU8W9CIX84"
      },
      "outputs": [],
      "source": [
        "#fitting the model\n",
        "dt = DecisionTreeClassifier(max_depth=7) \n",
        "dt.fit(X_smt, y_smt)\n",
        "y_pred = dt.predict(X_test_scaled)"
      ]
    },
    {
      "cell_type": "code",
      "execution_count": null,
      "metadata": {
        "colab": {
          "base_uri": "https://localhost:8080/",
          "height": 302
        },
        "id": "gqlbgdGqIeAz",
        "outputId": "fa2c76d9-e083-42e9-fe56-f8667cf621a4"
      },
      "outputs": [
        {
          "output_type": "execute_result",
          "data": {
            "text/plain": [
              "<sklearn.metrics._plot.roc_curve.RocCurveDisplay at 0x7fb0269fec40>"
            ]
          },
          "metadata": {},
          "execution_count": 368
        },
        {
          "output_type": "display_data",
          "data": {
            "text/plain": [
              "<Figure size 432x288 with 1 Axes>"
            ],
            "image/png": "[encoded data removed]"
          },
          "metadata": {}
        }
      ],
      "source": [
        "plot_roc_curve(dt, X_test_scaled, y_test)"
      ]
    },
    {
      "cell_type": "code",
      "execution_count": null,
      "metadata": {
        "colab": {
          "base_uri": "https://localhost:8080/"
        },
        "id": "ijZ2VResIf1q",
        "outputId": "86d883ba-7f31-49b7-8433-1b07c81517f4"
      },
      "outputs": [
        {
          "output_type": "stream",
          "name": "stdout",
          "text": [
            "              precision    recall  f1-score   support\n",
            "\n",
            "           0       0.98      0.77      0.86      7949\n",
            "           1       0.33      0.87      0.47      1035\n",
            "\n",
            "    accuracy                           0.78      8984\n",
            "   macro avg       0.65      0.82      0.67      8984\n",
            "weighted avg       0.90      0.78      0.82      8984\n",
            "\n"
          ]
        }
      ],
      "source": [
        "print(classification_report(y_test,y_pred))"
      ]
    },
    {
      "cell_type": "code",
      "source": [
        "#visualizing confusion matrix\n",
        "cm = confusion_matrix(y_test, y_pred)\n",
        "f = sns.heatmap(cm, annot=True, fmt='d')"
      ],
      "metadata": {
        "colab": {
          "base_uri": "https://localhost:8080/",
          "height": 268
        },
        "id": "iucUfxBS1q1B",
        "outputId": "a5d25832-9433-43ee-d4a3-074bb05c0fe9"
      },
      "execution_count": null,
      "outputs": [
        {
          "output_type": "display_data",
          "data": {
            "text/plain": [
              "<Figure size 432x288 with 2 Axes>"
            ],
            "image/png": "[encoded data removed]"
          },
          "metadata": {}
        }
      ]
    },
    {
      "cell_type": "markdown",
      "metadata": {
        "id": "-KzQ8-TMI02M"
      },
      "source": [
        "**Random Forest classifier**"
      ]
    },
    {
      "cell_type": "code",
      "execution_count": null,
      "metadata": {
        "colab": {
          "base_uri": "https://localhost:8080/"
        },
        "id": "2jukULL9I4CU",
        "outputId": "b153fcd4-adb7-4790-c913-d83196fcc6b0"
      },
      "outputs": [
        {
          "output_type": "execute_result",
          "data": {
            "text/plain": [
              "RandomForestClassifier(max_depth=7, max_features='sqrt')"
            ]
          },
          "metadata": {},
          "execution_count": 371
        }
      ],
      "source": [
        "from sklearn.ensemble import RandomForestClassifier\n",
        "rf = RandomForestClassifier(n_estimators= 100, max_depth = 7, max_features='sqrt')\n",
        "rf.fit(X_smt,y_smt)"
      ]
    },
    {
      "cell_type": "code",
      "execution_count": null,
      "metadata": {
        "colab": {
          "base_uri": "https://localhost:8080/"
        },
        "id": "XzGtyuVMI4FD",
        "outputId": "bfc29109-b2e3-444e-b8e5-a154aadc9f9c"
      },
      "outputs": [
        {
          "output_type": "execute_result",
          "data": {
            "text/plain": [
              "array([0, 0, 0, ..., 0, 0, 1])"
            ]
          },
          "metadata": {},
          "execution_count": 372
        }
      ],
      "source": [
        "y_pred = rf.predict(X_test_scaled)\n",
        "y_pred"
      ]
    },
    {
      "cell_type": "code",
      "execution_count": null,
      "metadata": {
        "colab": {
          "base_uri": "https://localhost:8080/",
          "height": 302
        },
        "id": "Vkq0QvN3I4JR",
        "outputId": "3361a789-7518-4467-ee2c-2b77bd534464"
      },
      "outputs": [
        {
          "output_type": "execute_result",
          "data": {
            "text/plain": [
              "<sklearn.metrics._plot.roc_curve.RocCurveDisplay at 0x7fb027040400>"
            ]
          },
          "metadata": {},
          "execution_count": 373
        },
        {
          "output_type": "display_data",
          "data": {
            "text/plain": [
              "<Figure size 432x288 with 1 Axes>"
            ],
            "image/png": "[encoded data removed]"
          },
          "metadata": {}
        }
      ],
      "source": [
        "plot_roc_curve(rf, X_test_scaled, y_test)"
      ]
    },
    {
      "cell_type": "code",
      "source": [
        "print(classification_report(y_test,y_pred))"
      ],
      "metadata": {
        "colab": {
          "base_uri": "https://localhost:8080/"
        },
        "id": "GjyCWlrE2CCC",
        "outputId": "6e38a747-7232-4762-8b5d-780bf188d34e"
      },
      "execution_count": null,
      "outputs": [
        {
          "output_type": "stream",
          "name": "stdout",
          "text": [
            "              precision    recall  f1-score   support\n",
            "\n",
            "           0       0.98      0.80      0.88      7949\n",
            "           1       0.36      0.87      0.51      1035\n",
            "\n",
            "    accuracy                           0.81      8984\n",
            "   macro avg       0.67      0.84      0.69      8984\n",
            "weighted avg       0.91      0.81      0.84      8984\n",
            "\n"
          ]
        }
      ]
    },
    {
      "cell_type": "code",
      "source": [
        "#visualizing confusion matrix\n",
        "cm = confusion_matrix(y_test, y_pred)\n",
        "f = sns.heatmap(cm, annot=True, fmt='d')"
      ],
      "metadata": {
        "colab": {
          "base_uri": "https://localhost:8080/",
          "height": 268
        },
        "id": "NSueXImD11vN",
        "outputId": "8e25ac33-01ae-478d-d88c-fd8ae3cb95f5"
      },
      "execution_count": null,
      "outputs": [
        {
          "output_type": "display_data",
          "data": {
            "text/plain": [
              "<Figure size 432x288 with 2 Axes>"
            ],
            "image/png": "[encoded data removed]"
          },
          "metadata": {}
        }
      ]
    },
    {
      "cell_type": "markdown",
      "metadata": {
        "id": "F_hDa6U9Qzwc"
      },
      "source": [
        "**XG Boost**"
      ]
    },
    {
      "cell_type": "code",
      "execution_count": null,
      "metadata": {
        "colab": {
          "base_uri": "https://localhost:8080/"
        },
        "id": "m092RZpWKo-d",
        "outputId": "f967fb05-7a37-43a9-ba71-922c650b1833"
      },
      "outputs": [
        {
          "output_type": "stream",
          "name": "stdout",
          "text": [
            "Learning rate :  0.01  Train score :  0.7316672696407203  Cross-Val score :  0.8971419880460694\n",
            "Learning rate :  0.02  Train score :  0.7705451813096597  Cross-Val score :  0.8968915319638555\n",
            "Learning rate :  0.03  Train score :  0.7867976511841482  Cross-Val score :  0.8973925680321022\n",
            "Learning rate :  0.04  Train score :  0.7953969888403417  Cross-Val score :  0.8987006671136497\n",
            "Learning rate :  0.05  Train score :  0.8005732891770796  Cross-Val score :  0.9000920295615927\n",
            "Learning rate :  0.06  Train score :  0.8078646369632372  Cross-Val score :  0.9005372624473388\n",
            "Learning rate :  0.07  Train score :  0.8120112431469679  Cross-Val score :  0.9012886229499918\n",
            "Learning rate :  0.08  Train score :  0.8167979294798653  Cross-Val score :  0.9023461497894951\n",
            "Learning rate :  0.09  Train score :  0.8226699691091754  Cross-Val score :  0.9032366697689085\n",
            "Learning rate :  0.1  Train score :  0.8294882141763839  Cross-Val score :  0.9033758447336464\n",
            "Learning rate :  0.11  Train score :  0.8308240336181226  Cross-Val score :  0.9043498681431046\n",
            "Learning rate :  0.12  Train score :  0.835861186096346  Cross-Val score :  0.9040993578529697\n",
            "Learning rate :  0.13  Train score :  0.8402304288536999  Cross-Val score :  0.9047393830302258\n",
            "Learning rate :  0.14  Train score :  0.8425402833050399  Cross-Val score :  0.9041549984117079\n",
            "Learning rate :  0.15  Train score :  0.8469930147775026  Cross-Val score :  0.9036818329587566\n",
            "Learning rate :  0.2  Train score :  0.8559541368658337  Cross-Val score :  0.9044610098687844\n",
            "Learning rate :  0.5  Train score :  0.8813347062588707  Cross-Val score :  0.9038209072516412\n",
            "Learning rate :  0.7  Train score :  0.885620460301116  Cross-Val score :  0.9038489946986201\n",
            "Learning rate :  1  Train score :  0.8898783847716584  Cross-Val score :  0.9025128081700939\n"
          ]
        }
      ],
      "source": [
        "import xgboost as xgb\n",
        "for lr in [0.01,0.02,0.03,0.04,0.05,0.06,0.07,0.08,0.09,0.1,0.11,0.12,0.13,0.14,0.15,0.2,0.5,0.7,1]:\n",
        "  model = xgb.XGBClassifier(learning_rate = lr, n_estimators=100, verbosity = 0) # initialise the model\n",
        "  model.fit(X_smt,y_smt) #train the model\n",
        "  print(\"Learning rate : \", lr, \" Train score : \", model.score(X_train_scaled,y_train), \" Cross-Val score : \", np.mean(cross_val_score(model, X_train_scaled, y_train, cv=10)))"
      ]
    },
    {
      "cell_type": "code",
      "execution_count": null,
      "metadata": {
        "colab": {
          "background_save": true
        },
        "id": "4dnP9vbgRd5I",
        "outputId": "6c80fd7e-c854-4a47-b3b9-60afc385c22b"
      },
      "outputs": [
        {
          "data": {
            "text/html": [
              "\n",
              "  <div id=\"df-c03e007b-6df8-47ed-ab7b-1ccb3e3f7818\">\n",
              "    <div class=\"colab-df-container\">\n",
              "      <div>\n",
              "<style scoped>\n",
              "    .dataframe tbody tr th:only-of-type {\n",
              "        vertical-align: middle;\n",
              "    }\n",
              "\n",
              "    .dataframe tbody tr th {\n",
              "        vertical-align: top;\n",
              "    }\n",
              "\n",
              "    .dataframe thead th {\n",
              "        text-align: right;\n",
              "    }\n",
              "</style>\n",
              "<table border=\"1\" class=\"dataframe\">\n",
              "  <thead>\n",
              "    <tr style=\"text-align: right;\">\n",
              "      <th></th>\n",
              "      <th>Learning rate</th>\n",
              "      <th>train score</th>\n",
              "      <th>cv score</th>\n",
              "    </tr>\n",
              "  </thead>\n",
              "  <tbody>\n",
              "    <tr>\n",
              "      <th>0</th>\n",
              "      <td>0.01</td>\n",
              "      <td>0.724098</td>\n",
              "      <td>0.889683</td>\n",
              "    </tr>\n",
              "    <tr>\n",
              "      <th>1</th>\n",
              "      <td>0.02</td>\n",
              "      <td>0.747641</td>\n",
              "      <td>0.890017</td>\n",
              "    </tr>\n",
              "    <tr>\n",
              "      <th>2</th>\n",
              "      <td>0.03</td>\n",
              "      <td>0.761334</td>\n",
              "      <td>0.891409</td>\n",
              "    </tr>\n",
              "    <tr>\n",
              "      <th>3</th>\n",
              "      <td>0.04</td>\n",
              "      <td>0.776640</td>\n",
              "      <td>0.892466</td>\n",
              "    </tr>\n",
              "    <tr>\n",
              "      <th>4</th>\n",
              "      <td>0.05</td>\n",
              "      <td>0.789553</td>\n",
              "      <td>0.893579</td>\n",
              "    </tr>\n",
              "    <tr>\n",
              "      <th>5</th>\n",
              "      <td>0.06</td>\n",
              "      <td>0.798319</td>\n",
              "      <td>0.894943</td>\n",
              "    </tr>\n",
              "    <tr>\n",
              "      <th>6</th>\n",
              "      <td>0.07</td>\n",
              "      <td>0.807197</td>\n",
              "      <td>0.895861</td>\n",
              "    </tr>\n",
              "    <tr>\n",
              "      <th>7</th>\n",
              "      <td>0.08</td>\n",
              "      <td>0.813681</td>\n",
              "      <td>0.896696</td>\n",
              "    </tr>\n",
              "    <tr>\n",
              "      <th>8</th>\n",
              "      <td>0.09</td>\n",
              "      <td>0.822893</td>\n",
              "      <td>0.897782</td>\n",
              "    </tr>\n",
              "    <tr>\n",
              "      <th>9</th>\n",
              "      <td>0.10</td>\n",
              "      <td>0.828598</td>\n",
              "      <td>0.898394</td>\n",
              "    </tr>\n",
              "    <tr>\n",
              "      <th>10</th>\n",
              "      <td>0.11</td>\n",
              "      <td>0.832132</td>\n",
              "      <td>0.899201</td>\n",
              "    </tr>\n",
              "    <tr>\n",
              "      <th>11</th>\n",
              "      <td>0.12</td>\n",
              "      <td>0.835305</td>\n",
              "      <td>0.898672</td>\n",
              "    </tr>\n",
              "    <tr>\n",
              "      <th>12</th>\n",
              "      <td>0.13</td>\n",
              "      <td>0.841566</td>\n",
              "      <td>0.899813</td>\n",
              "    </tr>\n",
              "    <tr>\n",
              "      <th>13</th>\n",
              "      <td>0.14</td>\n",
              "      <td>0.847577</td>\n",
              "      <td>0.899674</td>\n",
              "    </tr>\n",
              "    <tr>\n",
              "      <th>14</th>\n",
              "      <td>0.15</td>\n",
              "      <td>0.846910</td>\n",
              "      <td>0.899924</td>\n",
              "    </tr>\n",
              "    <tr>\n",
              "      <th>15</th>\n",
              "      <td>0.20</td>\n",
              "      <td>0.860796</td>\n",
              "      <td>0.901177</td>\n",
              "    </tr>\n",
              "    <tr>\n",
              "      <th>16</th>\n",
              "      <td>0.50</td>\n",
              "      <td>0.883199</td>\n",
              "      <td>0.902624</td>\n",
              "    </tr>\n",
              "    <tr>\n",
              "      <th>17</th>\n",
              "      <td>0.70</td>\n",
              "      <td>0.886121</td>\n",
              "      <td>0.902596</td>\n",
              "    </tr>\n",
              "    <tr>\n",
              "      <th>18</th>\n",
              "      <td>1.00</td>\n",
              "      <td>0.891910</td>\n",
              "      <td>0.899841</td>\n",
              "    </tr>\n",
              "  </tbody>\n",
              "</table>\n",
              "</div>\n",
              "      <button class=\"colab-df-convert\" onclick=\"convertToInteractive('df-c03e007b-6df8-47ed-ab7b-1ccb3e3f7818')\"\n",
              "              title=\"Convert this dataframe to an interactive table.\"\n",
              "              style=\"display:none;\">\n",
              "        \n",
              "  <svg xmlns=\"http://www.w3.org/2000/svg\" height=\"24px\"viewBox=\"0 0 24 24\"\n",
              "       width=\"24px\">\n",
              "    <path d=\"M0 0h24v24H0V0z\" fill=\"none\"/>\n",
              "    <path d=\"M18.56 5.44l.94 2.06.94-2.06 2.06-.94-2.06-.94-.94-2.06-.94 2.06-2.06.94zm-11 1L8.5 8.5l.94-2.06 2.06-.94-2.06-.94L8.5 2.5l-.94 2.06-2.06.94zm10 10l.94 2.06.94-2.06 2.06-.94-2.06-.94-.94-2.06-.94 2.06-2.06.94z\"/><path d=\"M17.41 7.96l-1.37-1.37c-.4-.4-.92-.59-1.43-.59-.52 0-1.04.2-1.43.59L10.3 9.45l-7.72 7.72c-.78.78-.78 2.05 0 2.83L4 21.41c.39.39.9.59 1.41.59.51 0 1.02-.2 1.41-.59l7.78-7.78 2.81-2.81c.8-.78.8-2.07 0-2.86zM5.41 20L4 18.59l7.72-7.72 1.47 1.35L5.41 20z\"/>\n",
              "  </svg>\n",
              "      </button>\n",
              "      \n",
              "  <style>\n",
              "    .colab-df-container {\n",
              "      display:flex;\n",
              "      flex-wrap:wrap;\n",
              "      gap: 12px;\n",
              "    }\n",
              "\n",
              "    .colab-df-convert {\n",
              "      background-color: #E8F0FE;\n",
              "      border: none;\n",
              "      border-radius: 50%;\n",
              "      cursor: pointer;\n",
              "      display: none;\n",
              "      fill: #1967D2;\n",
              "      height: 32px;\n",
              "      padding: 0 0 0 0;\n",
              "      width: 32px;\n",
              "    }\n",
              "\n",
              "    .colab-df-convert:hover {\n",
              "      background-color: #E2EBFA;\n",
              "      box-shadow: 0px 1px 2px rgba(60, 64, 67, 0.3), 0px 1px 3px 1px rgba(60, 64, 67, 0.15);\n",
              "      fill: #174EA6;\n",
              "    }\n",
              "\n",
              "    [theme=dark] .colab-df-convert {\n",
              "      background-color: #3B4455;\n",
              "      fill: #D2E3FC;\n",
              "    }\n",
              "\n",
              "    [theme=dark] .colab-df-convert:hover {\n",
              "      background-color: #434B5C;\n",
              "      box-shadow: 0px 1px 3px 1px rgba(0, 0, 0, 0.15);\n",
              "      filter: drop-shadow(0px 1px 2px rgba(0, 0, 0, 0.3));\n",
              "      fill: #FFFFFF;\n",
              "    }\n",
              "  </style>\n",
              "\n",
              "      <script>\n",
              "        const buttonEl =\n",
              "          document.querySelector('#df-c03e007b-6df8-47ed-ab7b-1ccb3e3f7818 button.colab-df-convert');\n",
              "        buttonEl.style.display =\n",
              "          google.colab.kernel.accessAllowed ? 'block' : 'none';\n",
              "\n",
              "        async function convertToInteractive(key) {\n",
              "          const element = document.querySelector('#df-c03e007b-6df8-47ed-ab7b-1ccb3e3f7818');\n",
              "          const dataTable =\n",
              "            await google.colab.kernel.invokeFunction('convertToInteractive',\n",
              "                                                     [key], {});\n",
              "          if (!dataTable) return;\n",
              "\n",
              "          const docLinkHtml = 'Like what you see? Visit the ' +\n",
              "            '<a target=\"_blank\" href=https://colab.research.google.com/notebooks/data_table.ipynb>data table notebook</a>'\n",
              "            + ' to learn more about interactive tables.';\n",
              "          element.innerHTML = '';\n",
              "          dataTable['output_type'] = 'display_data';\n",
              "          await google.colab.output.renderOutput(dataTable, element);\n",
              "          const docLink = document.createElement('div');\n",
              "          docLink.innerHTML = docLinkHtml;\n",
              "          element.appendChild(docLink);\n",
              "        }\n",
              "      </script>\n",
              "    </div>\n",
              "  </div>\n",
              "  "
            ],
            "text/plain": [
              "    Learning rate  train score  cv score\n",
              "0            0.01     0.724098  0.889683\n",
              "1            0.02     0.747641  0.890017\n",
              "2            0.03     0.761334  0.891409\n",
              "3            0.04     0.776640  0.892466\n",
              "4            0.05     0.789553  0.893579\n",
              "5            0.06     0.798319  0.894943\n",
              "6            0.07     0.807197  0.895861\n",
              "7            0.08     0.813681  0.896696\n",
              "8            0.09     0.822893  0.897782\n",
              "9            0.10     0.828598  0.898394\n",
              "10           0.11     0.832132  0.899201\n",
              "11           0.12     0.835305  0.898672\n",
              "12           0.13     0.841566  0.899813\n",
              "13           0.14     0.847577  0.899674\n",
              "14           0.15     0.846910  0.899924\n",
              "15           0.20     0.860796  0.901177\n",
              "16           0.50     0.883199  0.902624\n",
              "17           0.70     0.886121  0.902596\n",
              "18           1.00     0.891910  0.899841"
            ]
          },
          "execution_count": 116,
          "metadata": {},
          "output_type": "execute_result"
        }
      ],
      "source": [
        "xg_dict = {'Learning rate':[],'train score':[],'cv score':[]}\n",
        "for lr in [0.01,0.02,0.03,0.04,0.05,0.06,0.07,0.08,0.09,0.1,0.11,0.12,0.13,0.14,0.15,0.2,0.5,0.7,1]:\n",
        "  model = xgb.XGBClassifier(learning_rate = lr, n_estimators=100, verbosity = 0) # initialise the model\n",
        "  model.fit(X_smt,y_smt) #train the model\n",
        "  xg_dict['Learning rate'].append(lr)\n",
        "  xg_dict['train score'].append(model.score(X_train_scaled,y_train))\n",
        "  xg_dict['cv score'].append(np.mean(cross_val_score(model, X_train_scaled, y_train, cv=10)))\n",
        "\n",
        "pd.DataFrame(xg_dict)"
      ]
    },
    {
      "cell_type": "code",
      "execution_count": null,
      "metadata": {
        "colab": {
          "base_uri": "https://localhost:8080/"
        },
        "id": "oROJabvWSXHx",
        "outputId": "2fbbc0f5-3e4a-46a3-8b6c-3ec577159873"
      },
      "outputs": [
        {
          "output_type": "execute_result",
          "data": {
            "text/plain": [
              "XGBClassifier(learning_rate=0.5)"
            ]
          },
          "metadata": {},
          "execution_count": 376
        }
      ],
      "source": [
        "model = xgb.XGBClassifier(learning_rate = 0.5, n_estimators=100)\n",
        "model.fit(X_smt,y_smt)"
      ]
    },
    {
      "cell_type": "code",
      "execution_count": null,
      "metadata": {
        "colab": {
          "base_uri": "https://localhost:8080/"
        },
        "id": "wKltN2SQScdt",
        "outputId": "47a5de2e-e353-42ce-dfce-0e3fa8304ab1"
      },
      "outputs": [
        {
          "output_type": "execute_result",
          "data": {
            "text/plain": [
              "array([0, 0, 0, ..., 0, 0, 1])"
            ]
          },
          "metadata": {},
          "execution_count": 377
        }
      ],
      "source": [
        "y_pred = model.predict(X_test_scaled)\n",
        "y_pred"
      ]
    },
    {
      "cell_type": "code",
      "execution_count": null,
      "metadata": {
        "colab": {
          "base_uri": "https://localhost:8080/",
          "height": 302
        },
        "id": "3iouMIknScgi",
        "outputId": "2676988e-93d2-49e5-c2ed-582ad2d29d41"
      },
      "outputs": [
        {
          "output_type": "execute_result",
          "data": {
            "text/plain": [
              "<sklearn.metrics._plot.roc_curve.RocCurveDisplay at 0x7fb02665e040>"
            ]
          },
          "metadata": {},
          "execution_count": 378
        },
        {
          "output_type": "display_data",
          "data": {
            "text/plain": [
              "<Figure size 432x288 with 1 Axes>"
            ],
            "image/png": "[encoded data removed]"
          },
          "metadata": {}
        }
      ],
      "source": [
        "plot_roc_curve(model, X_test_scaled, y_test)"
      ]
    },
    {
      "cell_type": "code",
      "source": [
        "print(classification_report(y_test,y_pred))"
      ],
      "metadata": {
        "colab": {
          "base_uri": "https://localhost:8080/"
        },
        "id": "1uvj-IuV2MIW",
        "outputId": "22d22a77-3316-484f-c943-8065bc93bd34"
      },
      "execution_count": null,
      "outputs": [
        {
          "output_type": "stream",
          "name": "stdout",
          "text": [
            "              precision    recall  f1-score   support\n",
            "\n",
            "           0       0.97      0.89      0.93      7949\n",
            "           1       0.48      0.79      0.60      1035\n",
            "\n",
            "    accuracy                           0.88      8984\n",
            "   macro avg       0.72      0.84      0.76      8984\n",
            "weighted avg       0.91      0.88      0.89      8984\n",
            "\n"
          ]
        }
      ]
    },
    {
      "cell_type": "code",
      "source": [
        "#visualizing confusion matrix\n",
        "cm = confusion_matrix(y_test, y_pred)\n",
        "f = sns.heatmap(cm, annot=True, fmt='d')"
      ],
      "metadata": {
        "colab": {
          "base_uri": "https://localhost:8080/",
          "height": 270
        },
        "id": "d8JfZGGF2OrV",
        "outputId": "597cfe44-0d3e-4f5e-b436-718bc94b448f"
      },
      "execution_count": null,
      "outputs": [
        {
          "output_type": "display_data",
          "data": {
            "text/plain": [
              "<Figure size 432x288 with 2 Axes>"
            ],
            "image/png": "[encoded data removed]"
          },
          "metadata": {}
        }
      ]
    },
    {
      "cell_type": "markdown",
      "source": [
        "# Feature Importances"
      ],
      "metadata": {
        "id": "Y31GtB7H2Utb"
      }
    },
    {
      "cell_type": "code",
      "execution_count": null,
      "metadata": {
        "id": "su6WEzzkadXN"
      },
      "outputs": [],
      "source": [
        "importances = list(rf.feature_importances_)\n",
        "feature_importances = [(feature, round(importance, 2)) for feature, importance in zip(o_feature.columns, importances)]\n",
        "feature_importances = sorted(feature_importances, key = lambda x: x[1], reverse = True)\n",
        "\n",
        "feature_imp_dict = {'features':[],'importance':[]}\n",
        "for pair,value in feature_importances:\n",
        "  feature_imp_dict['features'].append(pair)\n",
        "  feature_imp_dict['importance'].append(value)\n",
        "feature_imp_df = pd.DataFrame(feature_imp_dict)\n",
        "feature_imp_df = feature_imp_df.loc[0:6]\n",
        "  \n",
        "  "
      ]
    },
    {
      "cell_type": "code",
      "execution_count": null,
      "metadata": {
        "colab": {
          "base_uri": "https://localhost:8080/",
          "height": 410
        },
        "id": "phhLaP4hbMgq",
        "outputId": "2083e29a-681d-46f5-a98b-e274ddf31356"
      },
      "outputs": [
        {
          "output_type": "display_data",
          "data": {
            "text/plain": [
              "<Figure size 576x432 with 1 Axes>"
            ],
            "image/png": "[encoded data removed]"
          },
          "metadata": {}
        }
      ],
      "source": [
        "fig, ax = plt.subplots(figsize=(8, 6))\n",
        "sns.barplot(y=feature_imp_df['features'], x=feature_imp_df['importance'],orient='horizonal', ax=ax)\n",
        "plt.xlabel('Feature Importance Score')\n",
        "plt.ylabel('Features')\n",
        "plt.title(\"Visualizing Important Features\")\n",
        "plt.show()"
      ]
    },
    {
      "cell_type": "markdown",
      "source": [
        "# Saving the Model"
      ],
      "metadata": {
        "id": "tvWcZ0c34yU3"
      }
    },
    {
      "cell_type": "code",
      "execution_count": 387,
      "metadata": {
        "id": "idncG3kgnwQu"
      },
      "outputs": [],
      "source": [
        "import pickle\n",
        "filename = \"xbmodel\"\n",
        "pickle.dump(model, open(filename, \"wb\"))#getting Good AUROC score in Xg Boost Model-Saving that model for deployment"
      ]
    }
  ],
  "metadata": {
    "colab": {
      "provenance": []
    },
    "kernelspec": {
      "display_name": "Python 3",
      "name": "python3"
    },
    "language_info": {
      "name": "python"
    }
  },
  "nbformat": 4,
  "nbformat_minor": 0
}